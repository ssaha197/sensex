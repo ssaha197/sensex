{
 "cells": [
  {
   "cell_type": "code",
   "execution_count": 1,
   "id": "9fe03704",
   "metadata": {},
   "outputs": [],
   "source": [
    "import numpy as np\n",
    "import pandas as pd\n",
    "import matplotlib.pyplot as plt\n",
    "%matplotlib inline\n",
    "import seaborn as sns\n",
    "import warnings\n",
    "warnings.filterwarnings('ignore')"
   ]
  },
  {
   "cell_type": "markdown",
   "id": "281f0087",
   "metadata": {},
   "source": [
    "# group 2"
   ]
  },
  {
   "cell_type": "code",
   "execution_count": 3,
   "id": "39caa8b8",
   "metadata": {},
   "outputs": [],
   "source": [
    "data = pd.read_excel('C:\\\\Users\\\\user\\\\Desktop\\\\New folder\\\\Projects\\\\sensex\\\\after clustering\\\\group2.xlsx')"
   ]
  },
  {
   "cell_type": "code",
   "execution_count": 4,
   "id": "5218e19e",
   "metadata": {
    "scrolled": true
   },
   "outputs": [
    {
     "data": {
      "text/html": [
       "<div>\n",
       "<style scoped>\n",
       "    .dataframe tbody tr th:only-of-type {\n",
       "        vertical-align: middle;\n",
       "    }\n",
       "\n",
       "    .dataframe tbody tr th {\n",
       "        vertical-align: top;\n",
       "    }\n",
       "\n",
       "    .dataframe thead th {\n",
       "        text-align: right;\n",
       "    }\n",
       "</style>\n",
       "<table border=\"1\" class=\"dataframe\">\n",
       "  <thead>\n",
       "    <tr style=\"text-align: right;\">\n",
       "      <th></th>\n",
       "      <th>Year</th>\n",
       "      <th>Perf</th>\n",
       "      <th>Company</th>\n",
       "      <th>NS</th>\n",
       "      <th>EPS</th>\n",
       "      <th>NPM</th>\n",
       "      <th>RoE</th>\n",
       "      <th>PER</th>\n",
       "      <th>PtBV</th>\n",
       "    </tr>\n",
       "  </thead>\n",
       "  <tbody>\n",
       "    <tr>\n",
       "      <th>0</th>\n",
       "      <td>2020</td>\n",
       "      <td>1</td>\n",
       "      <td>INFY</td>\n",
       "      <td>0.098168</td>\n",
       "      <td>38.97</td>\n",
       "      <td>18.32</td>\n",
       "      <td>25.35</td>\n",
       "      <td>55.22</td>\n",
       "      <td>4.15</td>\n",
       "    </tr>\n",
       "    <tr>\n",
       "      <th>1</th>\n",
       "      <td>2019</td>\n",
       "      <td>0</td>\n",
       "      <td>INFY</td>\n",
       "      <td>0.172329</td>\n",
       "      <td>35.44</td>\n",
       "      <td>18.63</td>\n",
       "      <td>23.71</td>\n",
       "      <td>72.18</td>\n",
       "      <td>4.96</td>\n",
       "    </tr>\n",
       "    <tr>\n",
       "      <th>2</th>\n",
       "      <td>2018</td>\n",
       "      <td>0</td>\n",
       "      <td>INFY</td>\n",
       "      <td>0.029759</td>\n",
       "      <td>71.07</td>\n",
       "      <td>22.82</td>\n",
       "      <td>24.68</td>\n",
       "      <td>73.91</td>\n",
       "      <td>3.80</td>\n",
       "    </tr>\n",
       "    <tr>\n",
       "      <th>3</th>\n",
       "      <td>2017</td>\n",
       "      <td>0</td>\n",
       "      <td>INFY</td>\n",
       "      <td>0.096779</td>\n",
       "      <td>62.80</td>\n",
       "      <td>21.00</td>\n",
       "      <td>20.80</td>\n",
       "      <td>56.64</td>\n",
       "      <td>3.39</td>\n",
       "    </tr>\n",
       "    <tr>\n",
       "      <th>4</th>\n",
       "      <td>2020</td>\n",
       "      <td>0</td>\n",
       "      <td>BAJAJFINSV</td>\n",
       "      <td>0.275608</td>\n",
       "      <td>211.70</td>\n",
       "      <td>11.02</td>\n",
       "      <td>10.76</td>\n",
       "      <td>21.69</td>\n",
       "      <td>2.33</td>\n",
       "    </tr>\n",
       "  </tbody>\n",
       "</table>\n",
       "</div>"
      ],
      "text/plain": [
       "   Year  Perf     Company        NS     EPS    NPM    RoE    PER  PtBV\n",
       "0  2020     1        INFY  0.098168   38.97  18.32  25.35  55.22  4.15\n",
       "1  2019     0        INFY  0.172329   35.44  18.63  23.71  72.18  4.96\n",
       "2  2018     0        INFY  0.029759   71.07  22.82  24.68  73.91  3.80\n",
       "3  2017     0        INFY  0.096779   62.80  21.00  20.80  56.64  3.39\n",
       "4  2020     0  BAJAJFINSV  0.275608  211.70  11.02  10.76  21.69  2.33"
      ]
     },
     "execution_count": 4,
     "metadata": {},
     "output_type": "execute_result"
    },
    {
     "data": {
      "text/html": [
       "<div>\n",
       "<style scoped>\n",
       "    .dataframe tbody tr th:only-of-type {\n",
       "        vertical-align: middle;\n",
       "    }\n",
       "\n",
       "    .dataframe tbody tr th {\n",
       "        vertical-align: top;\n",
       "    }\n",
       "\n",
       "    .dataframe thead th {\n",
       "        text-align: right;\n",
       "    }\n",
       "</style>\n",
       "<table border=\"1\" class=\"dataframe\">\n",
       "  <thead>\n",
       "    <tr style=\"text-align: right;\">\n",
       "      <th></th>\n",
       "      <th>Year</th>\n",
       "      <th>Perf</th>\n",
       "      <th>Company</th>\n",
       "      <th>NS</th>\n",
       "      <th>EPS</th>\n",
       "      <th>NPM</th>\n",
       "      <th>RoE</th>\n",
       "      <th>PER</th>\n",
       "      <th>PtBV</th>\n",
       "    </tr>\n",
       "  </thead>\n",
       "  <tbody>\n",
       "    <tr>\n",
       "      <th>0</th>\n",
       "      <td>2020</td>\n",
       "      <td>1</td>\n",
       "      <td>INFY</td>\n",
       "      <td>0.098168</td>\n",
       "      <td>38.97</td>\n",
       "      <td>18.32</td>\n",
       "      <td>25.35</td>\n",
       "      <td>55.22</td>\n",
       "      <td>4.15</td>\n",
       "    </tr>\n",
       "    <tr>\n",
       "      <th>1</th>\n",
       "      <td>2019</td>\n",
       "      <td>0</td>\n",
       "      <td>INFY</td>\n",
       "      <td>0.172329</td>\n",
       "      <td>35.44</td>\n",
       "      <td>18.63</td>\n",
       "      <td>23.71</td>\n",
       "      <td>72.18</td>\n",
       "      <td>4.96</td>\n",
       "    </tr>\n",
       "    <tr>\n",
       "      <th>2</th>\n",
       "      <td>2018</td>\n",
       "      <td>0</td>\n",
       "      <td>INFY</td>\n",
       "      <td>0.029759</td>\n",
       "      <td>71.07</td>\n",
       "      <td>22.82</td>\n",
       "      <td>24.68</td>\n",
       "      <td>73.91</td>\n",
       "      <td>3.80</td>\n",
       "    </tr>\n",
       "    <tr>\n",
       "      <th>3</th>\n",
       "      <td>2017</td>\n",
       "      <td>0</td>\n",
       "      <td>INFY</td>\n",
       "      <td>0.096779</td>\n",
       "      <td>62.80</td>\n",
       "      <td>21.00</td>\n",
       "      <td>20.80</td>\n",
       "      <td>56.64</td>\n",
       "      <td>3.39</td>\n",
       "    </tr>\n",
       "    <tr>\n",
       "      <th>4</th>\n",
       "      <td>2020</td>\n",
       "      <td>0</td>\n",
       "      <td>BAJAJFINSV</td>\n",
       "      <td>0.275608</td>\n",
       "      <td>211.70</td>\n",
       "      <td>11.02</td>\n",
       "      <td>10.76</td>\n",
       "      <td>21.69</td>\n",
       "      <td>2.33</td>\n",
       "    </tr>\n",
       "  </tbody>\n",
       "</table>\n",
       "</div>"
      ],
      "text/plain": [
       "   Year  Perf     Company        NS     EPS    NPM    RoE    PER  PtBV\n",
       "0  2020     1        INFY  0.098168   38.97  18.32  25.35  55.22  4.15\n",
       "1  2019     0        INFY  0.172329   35.44  18.63  23.71  72.18  4.96\n",
       "2  2018     0        INFY  0.029759   71.07  22.82  24.68  73.91  3.80\n",
       "3  2017     0        INFY  0.096779   62.80  21.00  20.80  56.64  3.39\n",
       "4  2020     0  BAJAJFINSV  0.275608  211.70  11.02  10.76  21.69  2.33"
      ]
     },
     "execution_count": 4,
     "metadata": {},
     "output_type": "execute_result"
    }
   ],
   "source": [
    "data.head()"
   ]
  },
  {
   "cell_type": "code",
   "execution_count": 5,
   "id": "06735c92",
   "metadata": {},
   "outputs": [
    {
     "data": {
      "text/plain": [
       "(92, 9)"
      ]
     },
     "execution_count": 5,
     "metadata": {},
     "output_type": "execute_result"
    },
    {
     "data": {
      "text/plain": [
       "(92, 9)"
      ]
     },
     "execution_count": 5,
     "metadata": {},
     "output_type": "execute_result"
    }
   ],
   "source": [
    "data.shape"
   ]
  },
  {
   "cell_type": "code",
   "execution_count": 6,
   "id": "7328b725",
   "metadata": {},
   "outputs": [
    {
     "name": "stdout",
     "output_type": "stream",
     "text": [
      "<class 'pandas.core.frame.DataFrame'>\n",
      "RangeIndex: 92 entries, 0 to 91\n",
      "Data columns (total 9 columns):\n",
      " #   Column   Non-Null Count  Dtype  \n",
      "---  ------   --------------  -----  \n",
      " 0   Year     92 non-null     int64  \n",
      " 1   Perf     92 non-null     int64  \n",
      " 2   Company  92 non-null     object \n",
      " 3   NS       92 non-null     float64\n",
      " 4   EPS      92 non-null     float64\n",
      " 5   NPM      92 non-null     float64\n",
      " 6   RoE      92 non-null     float64\n",
      " 7   PER      92 non-null     float64\n",
      " 8   PtBV     92 non-null     float64\n",
      "dtypes: float64(6), int64(2), object(1)\n",
      "memory usage: 6.6+ KB\n",
      "<class 'pandas.core.frame.DataFrame'>\n",
      "RangeIndex: 92 entries, 0 to 91\n",
      "Data columns (total 9 columns):\n",
      " #   Column   Non-Null Count  Dtype  \n",
      "---  ------   --------------  -----  \n",
      " 0   Year     92 non-null     int64  \n",
      " 1   Perf     92 non-null     int64  \n",
      " 2   Company  92 non-null     object \n",
      " 3   NS       92 non-null     float64\n",
      " 4   EPS      92 non-null     float64\n",
      " 5   NPM      92 non-null     float64\n",
      " 6   RoE      92 non-null     float64\n",
      " 7   PER      92 non-null     float64\n",
      " 8   PtBV     92 non-null     float64\n",
      "dtypes: float64(6), int64(2), object(1)\n",
      "memory usage: 6.6+ KB\n"
     ]
    }
   ],
   "source": [
    "data.info()"
   ]
  },
  {
   "cell_type": "code",
   "execution_count": 7,
   "id": "5b58bdfe",
   "metadata": {
    "scrolled": true
   },
   "outputs": [
    {
     "data": {
      "text/html": [
       "<div>\n",
       "<style scoped>\n",
       "    .dataframe tbody tr th:only-of-type {\n",
       "        vertical-align: middle;\n",
       "    }\n",
       "\n",
       "    .dataframe tbody tr th {\n",
       "        vertical-align: top;\n",
       "    }\n",
       "\n",
       "    .dataframe thead th {\n",
       "        text-align: right;\n",
       "    }\n",
       "</style>\n",
       "<table border=\"1\" class=\"dataframe\">\n",
       "  <thead>\n",
       "    <tr style=\"text-align: right;\">\n",
       "      <th></th>\n",
       "      <th>Year</th>\n",
       "      <th>Perf</th>\n",
       "      <th>NS</th>\n",
       "      <th>EPS</th>\n",
       "      <th>NPM</th>\n",
       "      <th>RoE</th>\n",
       "      <th>PER</th>\n",
       "      <th>PtBV</th>\n",
       "    </tr>\n",
       "  </thead>\n",
       "  <tbody>\n",
       "    <tr>\n",
       "      <th>count</th>\n",
       "      <td>92.00000</td>\n",
       "      <td>92.000000</td>\n",
       "      <td>92.000000</td>\n",
       "      <td>92.000000</td>\n",
       "      <td>92.000000</td>\n",
       "      <td>92.000000</td>\n",
       "      <td>92.000000</td>\n",
       "      <td>92.000000</td>\n",
       "    </tr>\n",
       "    <tr>\n",
       "      <th>mean</th>\n",
       "      <td>2018.50000</td>\n",
       "      <td>0.336957</td>\n",
       "      <td>0.139030</td>\n",
       "      <td>55.257065</td>\n",
       "      <td>13.503043</td>\n",
       "      <td>18.525870</td>\n",
       "      <td>32.391522</td>\n",
       "      <td>6.836087</td>\n",
       "    </tr>\n",
       "    <tr>\n",
       "      <th>std</th>\n",
       "      <td>1.12416</td>\n",
       "      <td>0.475260</td>\n",
       "      <td>0.219470</td>\n",
       "      <td>63.907539</td>\n",
       "      <td>8.747370</td>\n",
       "      <td>17.871205</td>\n",
       "      <td>53.998111</td>\n",
       "      <td>13.349261</td>\n",
       "    </tr>\n",
       "    <tr>\n",
       "      <th>min</th>\n",
       "      <td>2017.00000</td>\n",
       "      <td>0.000000</td>\n",
       "      <td>-0.280166</td>\n",
       "      <td>-63.410000</td>\n",
       "      <td>-35.770000</td>\n",
       "      <td>-41.710000</td>\n",
       "      <td>-247.780000</td>\n",
       "      <td>-37.510000</td>\n",
       "    </tr>\n",
       "    <tr>\n",
       "      <th>25%</th>\n",
       "      <td>2017.75000</td>\n",
       "      <td>0.000000</td>\n",
       "      <td>0.059492</td>\n",
       "      <td>14.945000</td>\n",
       "      <td>9.495000</td>\n",
       "      <td>10.902500</td>\n",
       "      <td>10.987500</td>\n",
       "      <td>2.077500</td>\n",
       "    </tr>\n",
       "    <tr>\n",
       "      <th>50%</th>\n",
       "      <td>2018.50000</td>\n",
       "      <td>0.000000</td>\n",
       "      <td>0.102451</td>\n",
       "      <td>32.420000</td>\n",
       "      <td>13.140000</td>\n",
       "      <td>16.055000</td>\n",
       "      <td>26.970000</td>\n",
       "      <td>3.630000</td>\n",
       "    </tr>\n",
       "    <tr>\n",
       "      <th>75%</th>\n",
       "      <td>2019.25000</td>\n",
       "      <td>1.000000</td>\n",
       "      <td>0.176614</td>\n",
       "      <td>69.232500</td>\n",
       "      <td>18.345000</td>\n",
       "      <td>21.710000</td>\n",
       "      <td>44.965000</td>\n",
       "      <td>6.000000</td>\n",
       "    </tr>\n",
       "    <tr>\n",
       "      <th>max</th>\n",
       "      <td>2020.00000</td>\n",
       "      <td>1.000000</td>\n",
       "      <td>1.861824</td>\n",
       "      <td>260.880000</td>\n",
       "      <td>31.540000</td>\n",
       "      <td>102.580000</td>\n",
       "      <td>312.720000</td>\n",
       "      <td>74.320000</td>\n",
       "    </tr>\n",
       "  </tbody>\n",
       "</table>\n",
       "</div>"
      ],
      "text/plain": [
       "             Year       Perf         NS         EPS        NPM         RoE  \\\n",
       "count    92.00000  92.000000  92.000000   92.000000  92.000000   92.000000   \n",
       "mean   2018.50000   0.336957   0.139030   55.257065  13.503043   18.525870   \n",
       "std       1.12416   0.475260   0.219470   63.907539   8.747370   17.871205   \n",
       "min    2017.00000   0.000000  -0.280166  -63.410000 -35.770000  -41.710000   \n",
       "25%    2017.75000   0.000000   0.059492   14.945000   9.495000   10.902500   \n",
       "50%    2018.50000   0.000000   0.102451   32.420000  13.140000   16.055000   \n",
       "75%    2019.25000   1.000000   0.176614   69.232500  18.345000   21.710000   \n",
       "max    2020.00000   1.000000   1.861824  260.880000  31.540000  102.580000   \n",
       "\n",
       "              PER       PtBV  \n",
       "count   92.000000  92.000000  \n",
       "mean    32.391522   6.836087  \n",
       "std     53.998111  13.349261  \n",
       "min   -247.780000 -37.510000  \n",
       "25%     10.987500   2.077500  \n",
       "50%     26.970000   3.630000  \n",
       "75%     44.965000   6.000000  \n",
       "max    312.720000  74.320000  "
      ]
     },
     "execution_count": 7,
     "metadata": {},
     "output_type": "execute_result"
    },
    {
     "data": {
      "text/html": [
       "<div>\n",
       "<style scoped>\n",
       "    .dataframe tbody tr th:only-of-type {\n",
       "        vertical-align: middle;\n",
       "    }\n",
       "\n",
       "    .dataframe tbody tr th {\n",
       "        vertical-align: top;\n",
       "    }\n",
       "\n",
       "    .dataframe thead th {\n",
       "        text-align: right;\n",
       "    }\n",
       "</style>\n",
       "<table border=\"1\" class=\"dataframe\">\n",
       "  <thead>\n",
       "    <tr style=\"text-align: right;\">\n",
       "      <th></th>\n",
       "      <th>Year</th>\n",
       "      <th>Perf</th>\n",
       "      <th>NS</th>\n",
       "      <th>EPS</th>\n",
       "      <th>NPM</th>\n",
       "      <th>RoE</th>\n",
       "      <th>PER</th>\n",
       "      <th>PtBV</th>\n",
       "    </tr>\n",
       "  </thead>\n",
       "  <tbody>\n",
       "    <tr>\n",
       "      <th>count</th>\n",
       "      <td>92.00000</td>\n",
       "      <td>92.000000</td>\n",
       "      <td>92.000000</td>\n",
       "      <td>92.000000</td>\n",
       "      <td>92.000000</td>\n",
       "      <td>92.000000</td>\n",
       "      <td>92.000000</td>\n",
       "      <td>92.000000</td>\n",
       "    </tr>\n",
       "    <tr>\n",
       "      <th>mean</th>\n",
       "      <td>2018.50000</td>\n",
       "      <td>0.336957</td>\n",
       "      <td>0.139030</td>\n",
       "      <td>55.257065</td>\n",
       "      <td>13.503043</td>\n",
       "      <td>18.525870</td>\n",
       "      <td>32.391522</td>\n",
       "      <td>6.836087</td>\n",
       "    </tr>\n",
       "    <tr>\n",
       "      <th>std</th>\n",
       "      <td>1.12416</td>\n",
       "      <td>0.475260</td>\n",
       "      <td>0.219470</td>\n",
       "      <td>63.907539</td>\n",
       "      <td>8.747370</td>\n",
       "      <td>17.871205</td>\n",
       "      <td>53.998111</td>\n",
       "      <td>13.349261</td>\n",
       "    </tr>\n",
       "    <tr>\n",
       "      <th>min</th>\n",
       "      <td>2017.00000</td>\n",
       "      <td>0.000000</td>\n",
       "      <td>-0.280166</td>\n",
       "      <td>-63.410000</td>\n",
       "      <td>-35.770000</td>\n",
       "      <td>-41.710000</td>\n",
       "      <td>-247.780000</td>\n",
       "      <td>-37.510000</td>\n",
       "    </tr>\n",
       "    <tr>\n",
       "      <th>25%</th>\n",
       "      <td>2017.75000</td>\n",
       "      <td>0.000000</td>\n",
       "      <td>0.059492</td>\n",
       "      <td>14.945000</td>\n",
       "      <td>9.495000</td>\n",
       "      <td>10.902500</td>\n",
       "      <td>10.987500</td>\n",
       "      <td>2.077500</td>\n",
       "    </tr>\n",
       "    <tr>\n",
       "      <th>50%</th>\n",
       "      <td>2018.50000</td>\n",
       "      <td>0.000000</td>\n",
       "      <td>0.102451</td>\n",
       "      <td>32.420000</td>\n",
       "      <td>13.140000</td>\n",
       "      <td>16.055000</td>\n",
       "      <td>26.970000</td>\n",
       "      <td>3.630000</td>\n",
       "    </tr>\n",
       "    <tr>\n",
       "      <th>75%</th>\n",
       "      <td>2019.25000</td>\n",
       "      <td>1.000000</td>\n",
       "      <td>0.176614</td>\n",
       "      <td>69.232500</td>\n",
       "      <td>18.345000</td>\n",
       "      <td>21.710000</td>\n",
       "      <td>44.965000</td>\n",
       "      <td>6.000000</td>\n",
       "    </tr>\n",
       "    <tr>\n",
       "      <th>max</th>\n",
       "      <td>2020.00000</td>\n",
       "      <td>1.000000</td>\n",
       "      <td>1.861824</td>\n",
       "      <td>260.880000</td>\n",
       "      <td>31.540000</td>\n",
       "      <td>102.580000</td>\n",
       "      <td>312.720000</td>\n",
       "      <td>74.320000</td>\n",
       "    </tr>\n",
       "  </tbody>\n",
       "</table>\n",
       "</div>"
      ],
      "text/plain": [
       "             Year       Perf         NS         EPS        NPM         RoE  \\\n",
       "count    92.00000  92.000000  92.000000   92.000000  92.000000   92.000000   \n",
       "mean   2018.50000   0.336957   0.139030   55.257065  13.503043   18.525870   \n",
       "std       1.12416   0.475260   0.219470   63.907539   8.747370   17.871205   \n",
       "min    2017.00000   0.000000  -0.280166  -63.410000 -35.770000  -41.710000   \n",
       "25%    2017.75000   0.000000   0.059492   14.945000   9.495000   10.902500   \n",
       "50%    2018.50000   0.000000   0.102451   32.420000  13.140000   16.055000   \n",
       "75%    2019.25000   1.000000   0.176614   69.232500  18.345000   21.710000   \n",
       "max    2020.00000   1.000000   1.861824  260.880000  31.540000  102.580000   \n",
       "\n",
       "              PER       PtBV  \n",
       "count   92.000000  92.000000  \n",
       "mean    32.391522   6.836087  \n",
       "std     53.998111  13.349261  \n",
       "min   -247.780000 -37.510000  \n",
       "25%     10.987500   2.077500  \n",
       "50%     26.970000   3.630000  \n",
       "75%     44.965000   6.000000  \n",
       "max    312.720000  74.320000  "
      ]
     },
     "execution_count": 7,
     "metadata": {},
     "output_type": "execute_result"
    }
   ],
   "source": [
    "data.describe()"
   ]
  },
  {
   "cell_type": "code",
   "execution_count": 8,
   "id": "c646c233",
   "metadata": {},
   "outputs": [
    {
     "data": {
      "image/png": "[encoded data removed]",
      "text/plain": [
       "<Figure size 1728x1008 with 2 Axes>"
      ]
     },
     "metadata": {
      "needs_background": "light"
     },
     "output_type": "display_data"
    },
    {
     "data": {
      "image/png": "[encoded data removed]",
      "text/plain": [
       "<Figure size 1728x1008 with 2 Axes>"
      ]
     },
     "metadata": {
      "needs_background": "light"
     },
     "output_type": "display_data"
    }
   ],
   "source": [
    "fig, ax = plt.subplots(figsize = (24,14))\n",
    "sns.heatmap(data.corr(), annot = True)\n",
    "plt.show()"
   ]
  },
  {
   "cell_type": "code",
   "execution_count": 9,
   "id": "43824c45",
   "metadata": {},
   "outputs": [],
   "source": [
    "data.drop('Year', axis = 1, inplace = True)"
   ]
  },
  {
   "cell_type": "code",
   "execution_count": 10,
   "id": "cd0d74d4",
   "metadata": {},
   "outputs": [
    {
     "data": {
      "text/plain": [
       "(92, 8)"
      ]
     },
     "execution_count": 10,
     "metadata": {},
     "output_type": "execute_result"
    },
    {
     "data": {
      "text/plain": [
       "(92, 8)"
      ]
     },
     "execution_count": 10,
     "metadata": {},
     "output_type": "execute_result"
    }
   ],
   "source": [
    "data.shape"
   ]
  },
  {
   "cell_type": "code",
   "execution_count": 11,
   "id": "7cd94e71",
   "metadata": {},
   "outputs": [
    {
     "data": {
      "text/html": [
       "<div>\n",
       "<style scoped>\n",
       "    .dataframe tbody tr th:only-of-type {\n",
       "        vertical-align: middle;\n",
       "    }\n",
       "\n",
       "    .dataframe tbody tr th {\n",
       "        vertical-align: top;\n",
       "    }\n",
       "\n",
       "    .dataframe thead th {\n",
       "        text-align: right;\n",
       "    }\n",
       "</style>\n",
       "<table border=\"1\" class=\"dataframe\">\n",
       "  <thead>\n",
       "    <tr style=\"text-align: right;\">\n",
       "      <th></th>\n",
       "      <th>Perf</th>\n",
       "      <th>Company</th>\n",
       "      <th>NS</th>\n",
       "      <th>EPS</th>\n",
       "      <th>NPM</th>\n",
       "      <th>RoE</th>\n",
       "      <th>PER</th>\n",
       "      <th>PtBV</th>\n",
       "    </tr>\n",
       "  </thead>\n",
       "  <tbody>\n",
       "    <tr>\n",
       "      <th>0</th>\n",
       "      <td>1</td>\n",
       "      <td>INFY</td>\n",
       "      <td>0.098168</td>\n",
       "      <td>38.97</td>\n",
       "      <td>18.32</td>\n",
       "      <td>25.35</td>\n",
       "      <td>55.22</td>\n",
       "      <td>4.15</td>\n",
       "    </tr>\n",
       "    <tr>\n",
       "      <th>1</th>\n",
       "      <td>0</td>\n",
       "      <td>INFY</td>\n",
       "      <td>0.172329</td>\n",
       "      <td>35.44</td>\n",
       "      <td>18.63</td>\n",
       "      <td>23.71</td>\n",
       "      <td>72.18</td>\n",
       "      <td>4.96</td>\n",
       "    </tr>\n",
       "    <tr>\n",
       "      <th>2</th>\n",
       "      <td>0</td>\n",
       "      <td>INFY</td>\n",
       "      <td>0.029759</td>\n",
       "      <td>71.07</td>\n",
       "      <td>22.82</td>\n",
       "      <td>24.68</td>\n",
       "      <td>73.91</td>\n",
       "      <td>3.80</td>\n",
       "    </tr>\n",
       "    <tr>\n",
       "      <th>3</th>\n",
       "      <td>0</td>\n",
       "      <td>INFY</td>\n",
       "      <td>0.096779</td>\n",
       "      <td>62.80</td>\n",
       "      <td>21.00</td>\n",
       "      <td>20.80</td>\n",
       "      <td>56.64</td>\n",
       "      <td>3.39</td>\n",
       "    </tr>\n",
       "    <tr>\n",
       "      <th>4</th>\n",
       "      <td>0</td>\n",
       "      <td>BAJAJFINSV</td>\n",
       "      <td>0.275608</td>\n",
       "      <td>211.70</td>\n",
       "      <td>11.02</td>\n",
       "      <td>10.76</td>\n",
       "      <td>21.69</td>\n",
       "      <td>2.33</td>\n",
       "    </tr>\n",
       "  </tbody>\n",
       "</table>\n",
       "</div>"
      ],
      "text/plain": [
       "   Perf     Company        NS     EPS    NPM    RoE    PER  PtBV\n",
       "0     1        INFY  0.098168   38.97  18.32  25.35  55.22  4.15\n",
       "1     0        INFY  0.172329   35.44  18.63  23.71  72.18  4.96\n",
       "2     0        INFY  0.029759   71.07  22.82  24.68  73.91  3.80\n",
       "3     0        INFY  0.096779   62.80  21.00  20.80  56.64  3.39\n",
       "4     0  BAJAJFINSV  0.275608  211.70  11.02  10.76  21.69  2.33"
      ]
     },
     "execution_count": 11,
     "metadata": {},
     "output_type": "execute_result"
    },
    {
     "data": {
      "text/html": [
       "<div>\n",
       "<style scoped>\n",
       "    .dataframe tbody tr th:only-of-type {\n",
       "        vertical-align: middle;\n",
       "    }\n",
       "\n",
       "    .dataframe tbody tr th {\n",
       "        vertical-align: top;\n",
       "    }\n",
       "\n",
       "    .dataframe thead th {\n",
       "        text-align: right;\n",
       "    }\n",
       "</style>\n",
       "<table border=\"1\" class=\"dataframe\">\n",
       "  <thead>\n",
       "    <tr style=\"text-align: right;\">\n",
       "      <th></th>\n",
       "      <th>Perf</th>\n",
       "      <th>Company</th>\n",
       "      <th>NS</th>\n",
       "      <th>EPS</th>\n",
       "      <th>NPM</th>\n",
       "      <th>RoE</th>\n",
       "      <th>PER</th>\n",
       "      <th>PtBV</th>\n",
       "    </tr>\n",
       "  </thead>\n",
       "  <tbody>\n",
       "    <tr>\n",
       "      <th>0</th>\n",
       "      <td>1</td>\n",
       "      <td>INFY</td>\n",
       "      <td>0.098168</td>\n",
       "      <td>38.97</td>\n",
       "      <td>18.32</td>\n",
       "      <td>25.35</td>\n",
       "      <td>55.22</td>\n",
       "      <td>4.15</td>\n",
       "    </tr>\n",
       "    <tr>\n",
       "      <th>1</th>\n",
       "      <td>0</td>\n",
       "      <td>INFY</td>\n",
       "      <td>0.172329</td>\n",
       "      <td>35.44</td>\n",
       "      <td>18.63</td>\n",
       "      <td>23.71</td>\n",
       "      <td>72.18</td>\n",
       "      <td>4.96</td>\n",
       "    </tr>\n",
       "    <tr>\n",
       "      <th>2</th>\n",
       "      <td>0</td>\n",
       "      <td>INFY</td>\n",
       "      <td>0.029759</td>\n",
       "      <td>71.07</td>\n",
       "      <td>22.82</td>\n",
       "      <td>24.68</td>\n",
       "      <td>73.91</td>\n",
       "      <td>3.80</td>\n",
       "    </tr>\n",
       "    <tr>\n",
       "      <th>3</th>\n",
       "      <td>0</td>\n",
       "      <td>INFY</td>\n",
       "      <td>0.096779</td>\n",
       "      <td>62.80</td>\n",
       "      <td>21.00</td>\n",
       "      <td>20.80</td>\n",
       "      <td>56.64</td>\n",
       "      <td>3.39</td>\n",
       "    </tr>\n",
       "    <tr>\n",
       "      <th>4</th>\n",
       "      <td>0</td>\n",
       "      <td>BAJAJFINSV</td>\n",
       "      <td>0.275608</td>\n",
       "      <td>211.70</td>\n",
       "      <td>11.02</td>\n",
       "      <td>10.76</td>\n",
       "      <td>21.69</td>\n",
       "      <td>2.33</td>\n",
       "    </tr>\n",
       "  </tbody>\n",
       "</table>\n",
       "</div>"
      ],
      "text/plain": [
       "   Perf     Company        NS     EPS    NPM    RoE    PER  PtBV\n",
       "0     1        INFY  0.098168   38.97  18.32  25.35  55.22  4.15\n",
       "1     0        INFY  0.172329   35.44  18.63  23.71  72.18  4.96\n",
       "2     0        INFY  0.029759   71.07  22.82  24.68  73.91  3.80\n",
       "3     0        INFY  0.096779   62.80  21.00  20.80  56.64  3.39\n",
       "4     0  BAJAJFINSV  0.275608  211.70  11.02  10.76  21.69  2.33"
      ]
     },
     "execution_count": 11,
     "metadata": {},
     "output_type": "execute_result"
    }
   ],
   "source": [
    "data.head()"
   ]
  },
  {
   "cell_type": "code",
   "execution_count": 12,
   "id": "54fe5627",
   "metadata": {},
   "outputs": [
    {
     "data": {
      "image/png": "[encoded data removed]",
      "text/plain": [
       "<Figure size 432x288 with 1 Axes>"
      ]
     },
     "metadata": {
      "needs_background": "light"
     },
     "output_type": "display_data"
    },
    {
     "data": {
      "image/png": "[encoded data removed]",
      "text/plain": [
       "<Figure size 432x288 with 1 Axes>"
      ]
     },
     "metadata": {
      "needs_background": "light"
     },
     "output_type": "display_data"
    }
   ],
   "source": [
    "sns.boxplot(x = 'Perf', y = 'NS', data = data)\n",
    "plt.show()"
   ]
  },
  {
   "cell_type": "code",
   "execution_count": 13,
   "id": "4aa1be84",
   "metadata": {},
   "outputs": [
    {
     "data": {
      "image/png": "[encoded data removed]",
      "text/plain": [
       "<Figure size 432x288 with 1 Axes>"
      ]
     },
     "metadata": {
      "needs_background": "light"
     },
     "output_type": "display_data"
    },
    {
     "data": {
      "image/png": "[encoded data removed]",
      "text/plain": [
       "<Figure size 432x288 with 1 Axes>"
      ]
     },
     "metadata": {
      "needs_background": "light"
     },
     "output_type": "display_data"
    }
   ],
   "source": [
    "sns.boxplot(x = 'Perf', y = 'EPS', data = data)\n",
    "plt.show()"
   ]
  },
  {
   "cell_type": "code",
   "execution_count": 14,
   "id": "82c55c90",
   "metadata": {},
   "outputs": [
    {
     "data": {
      "image/png": "[encoded data removed]",
      "text/plain": [
       "<Figure size 432x288 with 1 Axes>"
      ]
     },
     "metadata": {
      "needs_background": "light"
     },
     "output_type": "display_data"
    },
    {
     "data": {
      "image/png": "[encoded data removed]",
      "text/plain": [
       "<Figure size 432x288 with 1 Axes>"
      ]
     },
     "metadata": {
      "needs_background": "light"
     },
     "output_type": "display_data"
    }
   ],
   "source": [
    "sns.boxplot(x = 'Perf', y = 'NPM', data = data)\n",
    "plt.show()"
   ]
  },
  {
   "cell_type": "code",
   "execution_count": 15,
   "id": "4d7a9946",
   "metadata": {},
   "outputs": [
    {
     "data": {
      "image/png": "[encoded data removed]",
      "text/plain": [
       "<Figure size 432x288 with 1 Axes>"
      ]
     },
     "metadata": {
      "needs_background": "light"
     },
     "output_type": "display_data"
    },
    {
     "data": {
      "image/png": "[encoded data removed]",
      "text/plain": [
       "<Figure size 432x288 with 1 Axes>"
      ]
     },
     "metadata": {
      "needs_background": "light"
     },
     "output_type": "display_data"
    }
   ],
   "source": [
    "sns.boxplot(x = 'Perf', y = 'RoE', data = data)\n",
    "plt.show()"
   ]
  },
  {
   "cell_type": "code",
   "execution_count": 16,
   "id": "20500250",
   "metadata": {},
   "outputs": [
    {
     "data": {
      "image/png": "[encoded data removed]",
      "text/plain": [
       "<Figure size 432x288 with 1 Axes>"
      ]
     },
     "metadata": {
      "needs_background": "light"
     },
     "output_type": "display_data"
    },
    {
     "data": {
      "image/png": "[encoded data removed]",
      "text/plain": [
       "<Figure size 432x288 with 1 Axes>"
      ]
     },
     "metadata": {
      "needs_background": "light"
     },
     "output_type": "display_data"
    }
   ],
   "source": [
    "sns.boxplot(x = 'Perf', y = 'PER', data = data)\n",
    "plt.show()"
   ]
  },
  {
   "cell_type": "code",
   "execution_count": 17,
   "id": "c380b3e7",
   "metadata": {},
   "outputs": [
    {
     "data": {
      "image/png": "[encoded data removed]",
      "text/plain": [
       "<Figure size 432x288 with 1 Axes>"
      ]
     },
     "metadata": {
      "needs_background": "light"
     },
     "output_type": "display_data"
    },
    {
     "data": {
      "image/png": "[encoded data removed]",
      "text/plain": [
       "<Figure size 432x288 with 1 Axes>"
      ]
     },
     "metadata": {
      "needs_background": "light"
     },
     "output_type": "display_data"
    }
   ],
   "source": [
    "sns.boxplot(x = 'Perf', y = 'PtBV', data = data)\n",
    "plt.show()"
   ]
  },
  {
   "cell_type": "code",
   "execution_count": 18,
   "id": "5efd5bf4",
   "metadata": {
    "scrolled": true
   },
   "outputs": [
    {
     "data": {
      "text/html": [
       "<div>\n",
       "<style scoped>\n",
       "    .dataframe tbody tr th:only-of-type {\n",
       "        vertical-align: middle;\n",
       "    }\n",
       "\n",
       "    .dataframe tbody tr th {\n",
       "        vertical-align: top;\n",
       "    }\n",
       "\n",
       "    .dataframe thead th {\n",
       "        text-align: right;\n",
       "    }\n",
       "</style>\n",
       "<table border=\"1\" class=\"dataframe\">\n",
       "  <thead>\n",
       "    <tr style=\"text-align: right;\">\n",
       "      <th></th>\n",
       "      <th>Perf</th>\n",
       "      <th>Company</th>\n",
       "      <th>NS</th>\n",
       "      <th>EPS</th>\n",
       "      <th>NPM</th>\n",
       "      <th>RoE</th>\n",
       "      <th>PER</th>\n",
       "      <th>PtBV</th>\n",
       "    </tr>\n",
       "  </thead>\n",
       "  <tbody>\n",
       "    <tr>\n",
       "      <th>0</th>\n",
       "      <td>1</td>\n",
       "      <td>INFY</td>\n",
       "      <td>0.098168</td>\n",
       "      <td>38.97</td>\n",
       "      <td>18.32</td>\n",
       "      <td>25.35</td>\n",
       "      <td>55.22</td>\n",
       "      <td>4.15</td>\n",
       "    </tr>\n",
       "    <tr>\n",
       "      <th>1</th>\n",
       "      <td>0</td>\n",
       "      <td>INFY</td>\n",
       "      <td>0.172329</td>\n",
       "      <td>35.44</td>\n",
       "      <td>18.63</td>\n",
       "      <td>23.71</td>\n",
       "      <td>72.18</td>\n",
       "      <td>4.96</td>\n",
       "    </tr>\n",
       "    <tr>\n",
       "      <th>2</th>\n",
       "      <td>0</td>\n",
       "      <td>INFY</td>\n",
       "      <td>0.029759</td>\n",
       "      <td>71.07</td>\n",
       "      <td>22.82</td>\n",
       "      <td>24.68</td>\n",
       "      <td>73.91</td>\n",
       "      <td>3.80</td>\n",
       "    </tr>\n",
       "    <tr>\n",
       "      <th>3</th>\n",
       "      <td>0</td>\n",
       "      <td>INFY</td>\n",
       "      <td>0.096779</td>\n",
       "      <td>62.80</td>\n",
       "      <td>21.00</td>\n",
       "      <td>20.80</td>\n",
       "      <td>56.64</td>\n",
       "      <td>3.39</td>\n",
       "    </tr>\n",
       "    <tr>\n",
       "      <th>4</th>\n",
       "      <td>0</td>\n",
       "      <td>BAJAJFINSV</td>\n",
       "      <td>0.275608</td>\n",
       "      <td>211.70</td>\n",
       "      <td>11.02</td>\n",
       "      <td>10.76</td>\n",
       "      <td>21.69</td>\n",
       "      <td>2.33</td>\n",
       "    </tr>\n",
       "  </tbody>\n",
       "</table>\n",
       "</div>"
      ],
      "text/plain": [
       "   Perf     Company        NS     EPS    NPM    RoE    PER  PtBV\n",
       "0     1        INFY  0.098168   38.97  18.32  25.35  55.22  4.15\n",
       "1     0        INFY  0.172329   35.44  18.63  23.71  72.18  4.96\n",
       "2     0        INFY  0.029759   71.07  22.82  24.68  73.91  3.80\n",
       "3     0        INFY  0.096779   62.80  21.00  20.80  56.64  3.39\n",
       "4     0  BAJAJFINSV  0.275608  211.70  11.02  10.76  21.69  2.33"
      ]
     },
     "execution_count": 18,
     "metadata": {},
     "output_type": "execute_result"
    },
    {
     "data": {
      "text/html": [
       "<div>\n",
       "<style scoped>\n",
       "    .dataframe tbody tr th:only-of-type {\n",
       "        vertical-align: middle;\n",
       "    }\n",
       "\n",
       "    .dataframe tbody tr th {\n",
       "        vertical-align: top;\n",
       "    }\n",
       "\n",
       "    .dataframe thead th {\n",
       "        text-align: right;\n",
       "    }\n",
       "</style>\n",
       "<table border=\"1\" class=\"dataframe\">\n",
       "  <thead>\n",
       "    <tr style=\"text-align: right;\">\n",
       "      <th></th>\n",
       "      <th>Perf</th>\n",
       "      <th>Company</th>\n",
       "      <th>NS</th>\n",
       "      <th>EPS</th>\n",
       "      <th>NPM</th>\n",
       "      <th>RoE</th>\n",
       "      <th>PER</th>\n",
       "      <th>PtBV</th>\n",
       "    </tr>\n",
       "  </thead>\n",
       "  <tbody>\n",
       "    <tr>\n",
       "      <th>0</th>\n",
       "      <td>1</td>\n",
       "      <td>INFY</td>\n",
       "      <td>0.098168</td>\n",
       "      <td>38.97</td>\n",
       "      <td>18.32</td>\n",
       "      <td>25.35</td>\n",
       "      <td>55.22</td>\n",
       "      <td>4.15</td>\n",
       "    </tr>\n",
       "    <tr>\n",
       "      <th>1</th>\n",
       "      <td>0</td>\n",
       "      <td>INFY</td>\n",
       "      <td>0.172329</td>\n",
       "      <td>35.44</td>\n",
       "      <td>18.63</td>\n",
       "      <td>23.71</td>\n",
       "      <td>72.18</td>\n",
       "      <td>4.96</td>\n",
       "    </tr>\n",
       "    <tr>\n",
       "      <th>2</th>\n",
       "      <td>0</td>\n",
       "      <td>INFY</td>\n",
       "      <td>0.029759</td>\n",
       "      <td>71.07</td>\n",
       "      <td>22.82</td>\n",
       "      <td>24.68</td>\n",
       "      <td>73.91</td>\n",
       "      <td>3.80</td>\n",
       "    </tr>\n",
       "    <tr>\n",
       "      <th>3</th>\n",
       "      <td>0</td>\n",
       "      <td>INFY</td>\n",
       "      <td>0.096779</td>\n",
       "      <td>62.80</td>\n",
       "      <td>21.00</td>\n",
       "      <td>20.80</td>\n",
       "      <td>56.64</td>\n",
       "      <td>3.39</td>\n",
       "    </tr>\n",
       "    <tr>\n",
       "      <th>4</th>\n",
       "      <td>0</td>\n",
       "      <td>BAJAJFINSV</td>\n",
       "      <td>0.275608</td>\n",
       "      <td>211.70</td>\n",
       "      <td>11.02</td>\n",
       "      <td>10.76</td>\n",
       "      <td>21.69</td>\n",
       "      <td>2.33</td>\n",
       "    </tr>\n",
       "  </tbody>\n",
       "</table>\n",
       "</div>"
      ],
      "text/plain": [
       "   Perf     Company        NS     EPS    NPM    RoE    PER  PtBV\n",
       "0     1        INFY  0.098168   38.97  18.32  25.35  55.22  4.15\n",
       "1     0        INFY  0.172329   35.44  18.63  23.71  72.18  4.96\n",
       "2     0        INFY  0.029759   71.07  22.82  24.68  73.91  3.80\n",
       "3     0        INFY  0.096779   62.80  21.00  20.80  56.64  3.39\n",
       "4     0  BAJAJFINSV  0.275608  211.70  11.02  10.76  21.69  2.33"
      ]
     },
     "execution_count": 18,
     "metadata": {},
     "output_type": "execute_result"
    }
   ],
   "source": [
    "data.head()"
   ]
  },
  {
   "cell_type": "code",
   "execution_count": 19,
   "id": "93449706",
   "metadata": {},
   "outputs": [
    {
     "data": {
      "image/png": "[encoded data removed]",
      "text/plain": [
       "<Figure size 1728x1008 with 2 Axes>"
      ]
     },
     "metadata": {
      "needs_background": "light"
     },
     "output_type": "display_data"
    },
    {
     "data": {
      "image/png": "[encoded data removed]",
      "text/plain": [
       "<Figure size 1728x1008 with 2 Axes>"
      ]
     },
     "metadata": {
      "needs_background": "light"
     },
     "output_type": "display_data"
    }
   ],
   "source": [
    "fig, ax = plt.subplots(figsize = (24,14))\n",
    "sns.heatmap(data.corr(), annot = True)\n",
    "plt.show()"
   ]
  },
  {
   "cell_type": "markdown",
   "id": "f4f578f5",
   "metadata": {},
   "source": [
    "***"
   ]
  },
  {
   "cell_type": "code",
   "execution_count": 20,
   "id": "d9fcae94",
   "metadata": {},
   "outputs": [],
   "source": [
    "x = data.drop(['Perf', 'Company'], axis = 1).values\n",
    "y = data['Perf'].values"
   ]
  },
  {
   "cell_type": "code",
   "execution_count": 21,
   "id": "39e4173a",
   "metadata": {},
   "outputs": [],
   "source": [
    "data2021 = pd.read_excel('C:\\\\Users\\\\user\\\\Desktop\\\\New folder\\\\Projects\\\\sensex\\\\after clustering\\\\2021group2.xlsx')"
   ]
  },
  {
   "cell_type": "code",
   "execution_count": 22,
   "id": "bacad965",
   "metadata": {},
   "outputs": [
    {
     "data": {
      "text/html": [
       "<div>\n",
       "<style scoped>\n",
       "    .dataframe tbody tr th:only-of-type {\n",
       "        vertical-align: middle;\n",
       "    }\n",
       "\n",
       "    .dataframe tbody tr th {\n",
       "        vertical-align: top;\n",
       "    }\n",
       "\n",
       "    .dataframe thead th {\n",
       "        text-align: right;\n",
       "    }\n",
       "</style>\n",
       "<table border=\"1\" class=\"dataframe\">\n",
       "  <thead>\n",
       "    <tr style=\"text-align: right;\">\n",
       "      <th></th>\n",
       "      <th>Year</th>\n",
       "      <th>Perf</th>\n",
       "      <th>Company</th>\n",
       "      <th>NS</th>\n",
       "      <th>EPS</th>\n",
       "      <th>NPM</th>\n",
       "      <th>RoE</th>\n",
       "      <th>PER</th>\n",
       "      <th>PtBV</th>\n",
       "    </tr>\n",
       "  </thead>\n",
       "  <tbody>\n",
       "    <tr>\n",
       "      <th>0</th>\n",
       "      <td>2021</td>\n",
       "      <td>1</td>\n",
       "      <td>INFY</td>\n",
       "      <td>0.106630</td>\n",
       "      <td>45.61</td>\n",
       "      <td>19.33</td>\n",
       "      <td>25.34</td>\n",
       "      <td>142.16</td>\n",
       "      <td>7.61</td>\n",
       "    </tr>\n",
       "    <tr>\n",
       "      <th>1</th>\n",
       "      <td>2021</td>\n",
       "      <td>1</td>\n",
       "      <td>BAJAJFINSV</td>\n",
       "      <td>0.114912</td>\n",
       "      <td>280.90</td>\n",
       "      <td>12.15</td>\n",
       "      <td>12.47</td>\n",
       "      <td>34.42</td>\n",
       "      <td>4.29</td>\n",
       "    </tr>\n",
       "    <tr>\n",
       "      <th>2</th>\n",
       "      <td>2021</td>\n",
       "      <td>1</td>\n",
       "      <td>ICICIBANK</td>\n",
       "      <td>0.051005</td>\n",
       "      <td>27.26</td>\n",
       "      <td>22.83</td>\n",
       "      <td>11.90</td>\n",
       "      <td>21.35</td>\n",
       "      <td>2.60</td>\n",
       "    </tr>\n",
       "    <tr>\n",
       "      <th>3</th>\n",
       "      <td>2021</td>\n",
       "      <td>0</td>\n",
       "      <td>AXISBANK</td>\n",
       "      <td>0.015397</td>\n",
       "      <td>24.19</td>\n",
       "      <td>11.20</td>\n",
       "      <td>6.94</td>\n",
       "      <td>28.83</td>\n",
       "      <td>2.06</td>\n",
       "    </tr>\n",
       "    <tr>\n",
       "      <th>4</th>\n",
       "      <td>2021</td>\n",
       "      <td>1</td>\n",
       "      <td>TECHM</td>\n",
       "      <td>0.026799</td>\n",
       "      <td>50.64</td>\n",
       "      <td>11.49</td>\n",
       "      <td>17.81</td>\n",
       "      <td>19.58</td>\n",
       "      <td>3.48</td>\n",
       "    </tr>\n",
       "  </tbody>\n",
       "</table>\n",
       "</div>"
      ],
      "text/plain": [
       "   Year  Perf     Company        NS     EPS    NPM    RoE     PER  PtBV\n",
       "0  2021     1        INFY  0.106630   45.61  19.33  25.34  142.16  7.61\n",
       "1  2021     1  BAJAJFINSV  0.114912  280.90  12.15  12.47   34.42  4.29\n",
       "2  2021     1   ICICIBANK  0.051005   27.26  22.83  11.90   21.35  2.60\n",
       "3  2021     0    AXISBANK  0.015397   24.19  11.20   6.94   28.83  2.06\n",
       "4  2021     1       TECHM  0.026799   50.64  11.49  17.81   19.58  3.48"
      ]
     },
     "execution_count": 22,
     "metadata": {},
     "output_type": "execute_result"
    },
    {
     "data": {
      "text/html": [
       "<div>\n",
       "<style scoped>\n",
       "    .dataframe tbody tr th:only-of-type {\n",
       "        vertical-align: middle;\n",
       "    }\n",
       "\n",
       "    .dataframe tbody tr th {\n",
       "        vertical-align: top;\n",
       "    }\n",
       "\n",
       "    .dataframe thead th {\n",
       "        text-align: right;\n",
       "    }\n",
       "</style>\n",
       "<table border=\"1\" class=\"dataframe\">\n",
       "  <thead>\n",
       "    <tr style=\"text-align: right;\">\n",
       "      <th></th>\n",
       "      <th>Year</th>\n",
       "      <th>Perf</th>\n",
       "      <th>Company</th>\n",
       "      <th>NS</th>\n",
       "      <th>EPS</th>\n",
       "      <th>NPM</th>\n",
       "      <th>RoE</th>\n",
       "      <th>PER</th>\n",
       "      <th>PtBV</th>\n",
       "    </tr>\n",
       "  </thead>\n",
       "  <tbody>\n",
       "    <tr>\n",
       "      <th>0</th>\n",
       "      <td>2021</td>\n",
       "      <td>1</td>\n",
       "      <td>INFY</td>\n",
       "      <td>0.106630</td>\n",
       "      <td>45.61</td>\n",
       "      <td>19.33</td>\n",
       "      <td>25.34</td>\n",
       "      <td>142.16</td>\n",
       "      <td>7.61</td>\n",
       "    </tr>\n",
       "    <tr>\n",
       "      <th>1</th>\n",
       "      <td>2021</td>\n",
       "      <td>1</td>\n",
       "      <td>BAJAJFINSV</td>\n",
       "      <td>0.114912</td>\n",
       "      <td>280.90</td>\n",
       "      <td>12.15</td>\n",
       "      <td>12.47</td>\n",
       "      <td>34.42</td>\n",
       "      <td>4.29</td>\n",
       "    </tr>\n",
       "    <tr>\n",
       "      <th>2</th>\n",
       "      <td>2021</td>\n",
       "      <td>1</td>\n",
       "      <td>ICICIBANK</td>\n",
       "      <td>0.051005</td>\n",
       "      <td>27.26</td>\n",
       "      <td>22.83</td>\n",
       "      <td>11.90</td>\n",
       "      <td>21.35</td>\n",
       "      <td>2.60</td>\n",
       "    </tr>\n",
       "    <tr>\n",
       "      <th>3</th>\n",
       "      <td>2021</td>\n",
       "      <td>0</td>\n",
       "      <td>AXISBANK</td>\n",
       "      <td>0.015397</td>\n",
       "      <td>24.19</td>\n",
       "      <td>11.20</td>\n",
       "      <td>6.94</td>\n",
       "      <td>28.83</td>\n",
       "      <td>2.06</td>\n",
       "    </tr>\n",
       "    <tr>\n",
       "      <th>4</th>\n",
       "      <td>2021</td>\n",
       "      <td>1</td>\n",
       "      <td>TECHM</td>\n",
       "      <td>0.026799</td>\n",
       "      <td>50.64</td>\n",
       "      <td>11.49</td>\n",
       "      <td>17.81</td>\n",
       "      <td>19.58</td>\n",
       "      <td>3.48</td>\n",
       "    </tr>\n",
       "  </tbody>\n",
       "</table>\n",
       "</div>"
      ],
      "text/plain": [
       "   Year  Perf     Company        NS     EPS    NPM    RoE     PER  PtBV\n",
       "0  2021     1        INFY  0.106630   45.61  19.33  25.34  142.16  7.61\n",
       "1  2021     1  BAJAJFINSV  0.114912  280.90  12.15  12.47   34.42  4.29\n",
       "2  2021     1   ICICIBANK  0.051005   27.26  22.83  11.90   21.35  2.60\n",
       "3  2021     0    AXISBANK  0.015397   24.19  11.20   6.94   28.83  2.06\n",
       "4  2021     1       TECHM  0.026799   50.64  11.49  17.81   19.58  3.48"
      ]
     },
     "execution_count": 22,
     "metadata": {},
     "output_type": "execute_result"
    }
   ],
   "source": [
    "data2021.head()"
   ]
  },
  {
   "cell_type": "code",
   "execution_count": 23,
   "id": "9a2bc735",
   "metadata": {},
   "outputs": [
    {
     "data": {
      "text/plain": [
       "(23, 9)"
      ]
     },
     "execution_count": 23,
     "metadata": {},
     "output_type": "execute_result"
    },
    {
     "data": {
      "text/plain": [
       "(23, 9)"
      ]
     },
     "execution_count": 23,
     "metadata": {},
     "output_type": "execute_result"
    }
   ],
   "source": [
    "data2021.shape"
   ]
  },
  {
   "cell_type": "code",
   "execution_count": 24,
   "id": "652f5e0a",
   "metadata": {},
   "outputs": [],
   "source": [
    "data2021.drop('Year', axis = 1, inplace = True)"
   ]
  },
  {
   "cell_type": "code",
   "execution_count": 25,
   "id": "7019da25",
   "metadata": {},
   "outputs": [],
   "source": [
    "x2021 = data2021.drop(['Perf', 'Company'], axis = 1).values\n",
    "y2021 = data2021['Perf'].values"
   ]
  },
  {
   "cell_type": "markdown",
   "id": "0005ed1d",
   "metadata": {},
   "source": [
    "### Logistic Regression"
   ]
  },
  {
   "cell_type": "code",
   "execution_count": 26,
   "id": "a6189063",
   "metadata": {},
   "outputs": [
    {
     "data": {
      "text/plain": [
       "LogisticRegression()"
      ]
     },
     "execution_count": 26,
     "metadata": {},
     "output_type": "execute_result"
    },
    {
     "data": {
      "text/plain": [
       "LogisticRegression()"
      ]
     },
     "execution_count": 26,
     "metadata": {},
     "output_type": "execute_result"
    }
   ],
   "source": [
    "from sklearn.linear_model import LogisticRegression\n",
    "lr = LogisticRegression()\n",
    "lr.fit(x, y)"
   ]
  },
  {
   "cell_type": "code",
   "execution_count": 27,
   "id": "b2af8655",
   "metadata": {},
   "outputs": [],
   "source": [
    "y_predlr = lr.predict(x2021)"
   ]
  },
  {
   "cell_type": "code",
   "execution_count": 28,
   "id": "5ca82720",
   "metadata": {},
   "outputs": [
    {
     "name": "stdout",
     "output_type": "stream",
     "text": [
      "0.43478260869565216\n",
      "[[10  2]\n",
      " [11  0]]\n",
      "0.43478260869565216\n",
      "[[10  2]\n",
      " [11  0]]\n"
     ]
    }
   ],
   "source": [
    "from sklearn.metrics import accuracy_score, confusion_matrix\n",
    "\n",
    "acclr = accuracy_score(y2021, y_predlr)\n",
    "print(acclr)\n",
    "\n",
    "cmlr = confusion_matrix(y2021, y_predlr)\n",
    "print(cmlr)"
   ]
  },
  {
   "cell_type": "markdown",
   "id": "56859c12",
   "metadata": {},
   "source": [
    "## Decision Tree"
   ]
  },
  {
   "cell_type": "markdown",
   "id": "77e54878",
   "metadata": {},
   "source": [
    "from sklearn.tree import DecisionTreeClassifier\n",
    "dtc = DecisionTreeClassifier(random_state = 7)\n",
    "dtc.fit(x, y)"
   ]
  },
  {
   "cell_type": "markdown",
   "id": "4787f567",
   "metadata": {},
   "source": [
    "y_preddtc = dtc.predict(x2021)"
   ]
  },
  {
   "cell_type": "markdown",
   "id": "72aebf1e",
   "metadata": {},
   "source": [
    "accdtc = accuracy_score(y2021, y_preddtc)\n",
    "print(accdtc)\n",
    "\n",
    "cmdtc = confusion_matrix(y2021, y_preddtc)\n",
    "print(cmdtc)"
   ]
  },
  {
   "cell_type": "markdown",
   "id": "d671555b",
   "metadata": {},
   "source": [
    "### Random Forest"
   ]
  },
  {
   "cell_type": "markdown",
   "id": "0b75d42e",
   "metadata": {},
   "source": [
    "from sklearn.ensemble import RandomForestClassifier\n",
    "rfc = RandomForestClassifier(n_estimators = 10, random_state = 7)\n",
    "rfc.fit(x, y)"
   ]
  },
  {
   "cell_type": "markdown",
   "id": "4fe72eb5",
   "metadata": {},
   "source": [
    "y_predrfc = rfc.predict(x2021)"
   ]
  },
  {
   "cell_type": "markdown",
   "id": "d2afa801",
   "metadata": {},
   "source": [
    "accrfc = accuracy_score(y2021, y_predrfc)\n",
    "print(accrfc)\n",
    "\n",
    "cmrfc = confusion_matrix(y2021, y_predrfc)\n",
    "print(cmrfc)"
   ]
  },
  {
   "cell_type": "code",
   "execution_count": null,
   "id": "9411082c",
   "metadata": {},
   "outputs": [],
   "source": []
  },
  {
   "cell_type": "markdown",
   "id": "4c2ee5d7",
   "metadata": {},
   "source": [
    "***"
   ]
  },
  {
   "cell_type": "raw",
   "id": "9220f4ec",
   "metadata": {},
   "source": [
    "expected = dataset.target\n",
    "predicted = model.predict(dataset.data)\n",
    "\n",
    "\n",
    "mse = np.mean((predicted-expected)**2)\n",
    "print model.intercept_, model.coef_, mse, \n",
    "print(model.score(dataset.data, dataset.target))"
   ]
  },
  {
   "cell_type": "code",
   "execution_count": 30,
   "id": "04e26e44",
   "metadata": {},
   "outputs": [],
   "source": [
    "expected = y\n",
    "predicted = lr.predict(x)\n",
    "\n",
    "\n",
    "mse = np.mean((predicted - expected)**2)"
   ]
  },
  {
   "cell_type": "code",
   "execution_count": 33,
   "id": "10031849",
   "metadata": {},
   "outputs": [
    {
     "name": "stdout",
     "output_type": "stream",
     "text": [
      "Intercept of the model is:  [-0.81872346]\n",
      "The coefficients are:  [[ 4.71850500e-01  2.52850859e-03 -5.34597602e-03 -1.77176489e-02\n",
      "  -6.21479119e-05  4.57828385e-02]]\n",
      "The mse value is:  0.33695652173913043\n",
      "Intercept of the model is:  [-0.81872346]\n",
      "The coefficients are:  [[ 4.71850500e-01  2.52850859e-03 -5.34597602e-03 -1.77176489e-02\n",
      "  -6.21479119e-05  4.57828385e-02]]\n",
      "The mse value is:  0.33695652173913043\n"
     ]
    }
   ],
   "source": [
    "print(\"Intercept of the model is: \", lr.intercept_) \n",
    "print(\"The coefficients are: \", lr.coef_)\n",
    "print(\"The mse value is: \", mse)"
   ]
  },
  {
   "cell_type": "markdown",
   "id": "136fd0f5",
   "metadata": {},
   "source": [
    "****"
   ]
  },
  {
   "cell_type": "code",
   "execution_count": 32,
   "id": "947f51b6",
   "metadata": {},
   "outputs": [
    {
     "name": "stdout",
     "output_type": "stream",
     "text": [
      "              precision    recall  f1-score   support\n",
      "\n",
      "           0       0.48      0.83      0.61        12\n",
      "           1       0.00      0.00      0.00        11\n",
      "\n",
      "    accuracy                           0.43        23\n",
      "   macro avg       0.24      0.42      0.30        23\n",
      "weighted avg       0.25      0.43      0.32        23\n",
      "\n",
      "              precision    recall  f1-score   support\n",
      "\n",
      "           0       0.48      0.83      0.61        12\n",
      "           1       0.00      0.00      0.00        11\n",
      "\n",
      "    accuracy                           0.43        23\n",
      "   macro avg       0.24      0.42      0.30        23\n",
      "weighted avg       0.25      0.43      0.32        23\n",
      "\n"
     ]
    }
   ],
   "source": [
    "from sklearn.metrics import classification_report\n",
    "print(classification_report(y2021, y_predlr))"
   ]
  },
  {
   "cell_type": "code",
   "execution_count": 35,
   "id": "56a02c83",
   "metadata": {},
   "outputs": [],
   "source": [
    "from sklearn import metrics"
   ]
  },
  {
   "cell_type": "code",
   "execution_count": 36,
   "id": "9956726b",
   "metadata": {
    "scrolled": true
   },
   "outputs": [
    {
     "name": "stdout",
     "output_type": "stream",
     "text": [
      "cohen kappa score:  -0.1725\n",
      "cohen kappa score:  -0.1725\n"
     ]
    }
   ],
   "source": [
    "print('cohen kappa score: ', np.round(metrics.cohen_kappa_score(y2021,y_predlr),4))"
   ]
  },
  {
   "cell_type": "code",
   "execution_count": 37,
   "id": "380de0ef",
   "metadata": {},
   "outputs": [
    {
     "name": "stdout",
     "output_type": "stream",
     "text": [
      "matthews corrcoef:  -0.2955\n",
      "matthews corrcoef:  -0.2955\n"
     ]
    }
   ],
   "source": [
    "print('matthews corrcoef: ', np.round(metrics.matthews_corrcoef(y2021,y_predlr),4))"
   ]
  },
  {
   "cell_type": "code",
   "execution_count": 38,
   "id": "a3312527",
   "metadata": {},
   "outputs": [],
   "source": [
    "import statsmodels.api as sm"
   ]
  },
  {
   "cell_type": "code",
   "execution_count": 39,
   "id": "36c8632b",
   "metadata": {},
   "outputs": [
    {
     "name": "stdout",
     "output_type": "stream",
     "text": [
      "Optimization terminated successfully.\n",
      "         Current function value: 0.629430\n",
      "         Iterations 5\n",
      "                           Logit Regression Results                           \n",
      "==============================================================================\n",
      "Dep. Variable:                      y   No. Observations:                   92\n",
      "Model:                          Logit   Df Residuals:                       86\n",
      "Method:                           MLE   Df Model:                            5\n",
      "Date:                Sat, 12 Feb 2022   Pseudo R-squ.:                 0.01497\n",
      "Time:                        04:09:21   Log-Likelihood:                -57.908\n",
      "converged:                       True   LL-Null:                       -58.788\n",
      "Covariance Type:            nonrobust   LLR p-value:                    0.8812\n",
      "==============================================================================\n",
      "                 coef    std err          z      P>|z|      [0.025      0.975]\n",
      "------------------------------------------------------------------------------\n",
      "x1             0.8248      1.083      0.761      0.446      -1.298       2.948\n",
      "x2          4.722e-05      0.003      0.014      0.989      -0.007       0.007\n",
      "x3            -0.0381      0.029     -1.306      0.192      -0.095       0.019\n",
      "x4            -0.0195      0.030     -0.645      0.519      -0.079       0.040\n",
      "x5            -0.0027      0.004     -0.677      0.499      -0.010       0.005\n",
      "x6             0.0444      0.039      1.142      0.254      -0.032       0.121\n",
      "==============================================================================\n",
      "Optimization terminated successfully.\n",
      "         Current function value: 0.629430\n",
      "         Iterations 5\n",
      "                           Logit Regression Results                           \n",
      "==============================================================================\n",
      "Dep. Variable:                      y   No. Observations:                   92\n",
      "Model:                          Logit   Df Residuals:                       86\n",
      "Method:                           MLE   Df Model:                            5\n",
      "Date:                Sat, 12 Feb 2022   Pseudo R-squ.:                 0.01497\n",
      "Time:                        04:09:21   Log-Likelihood:                -57.908\n",
      "converged:                       True   LL-Null:                       -58.788\n",
      "Covariance Type:            nonrobust   LLR p-value:                    0.8812\n",
      "==============================================================================\n",
      "                 coef    std err          z      P>|z|      [0.025      0.975]\n",
      "------------------------------------------------------------------------------\n",
      "x1             0.8248      1.083      0.761      0.446      -1.298       2.948\n",
      "x2          4.722e-05      0.003      0.014      0.989      -0.007       0.007\n",
      "x3            -0.0381      0.029     -1.306      0.192      -0.095       0.019\n",
      "x4            -0.0195      0.030     -0.645      0.519      -0.079       0.040\n",
      "x5            -0.0027      0.004     -0.677      0.499      -0.010       0.005\n",
      "x6             0.0444      0.039      1.142      0.254      -0.032       0.121\n",
      "==============================================================================\n"
     ]
    }
   ],
   "source": [
    "import statsmodels.api as sm\n",
    "logit_model=sm.Logit(y,x)\n",
    "result=logit_model.fit()\n",
    "print(result.summary())"
   ]
  },
  {
   "cell_type": "code",
   "execution_count": 40,
   "id": "54e6403f",
   "metadata": {},
   "outputs": [
    {
     "name": "stdout",
     "output_type": "stream",
     "text": [
      "127.81509577282202\n",
      "127.81509577282202\n"
     ]
    }
   ],
   "source": [
    "print(result.aic)"
   ]
  },
  {
   "cell_type": "code",
   "execution_count": null,
   "id": "bd96606a",
   "metadata": {},
   "outputs": [],
   "source": []
  }
 ],
 "metadata": {
  "kernelspec": {
   "display_name": "Python 3",
   "language": "python",
   "name": "python3"
  },
  "language_info": {
   "codemirror_mode": {
    "name": "ipython",
    "version": 3
   },
   "file_extension": ".py",
   "mimetype": "text/x-python",
   "name": "python",
   "nbconvert_exporter": "python",
   "pygments_lexer": "ipython3",
   "version": "3.8.8"
  }
 },
 "nbformat": 4,
 "nbformat_minor": 5
}
