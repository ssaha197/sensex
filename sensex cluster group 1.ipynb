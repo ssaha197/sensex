{
 "cells": [
  {
   "cell_type": "code",
   "execution_count": 1,
   "id": "9fe03704",
   "metadata": {},
   "outputs": [],
   "source": [
    "import numpy as np\n",
    "import pandas as pd\n",
    "import matplotlib.pyplot as plt\n",
    "%matplotlib inline\n",
    "import seaborn as sns\n",
    "import warnings\n",
    "warnings.filterwarnings('ignore')"
   ]
  },
  {
   "cell_type": "markdown",
   "id": "5682bda8",
   "metadata": {},
   "source": [
    "# group 1"
   ]
  },
  {
   "cell_type": "code",
   "execution_count": 2,
   "id": "39caa8b8",
   "metadata": {},
   "outputs": [],
   "source": [
    "data = pd.read_excel('C:\\\\Users\\\\user\\\\Desktop\\\\New folder\\\\Projects\\\\sensex\\\\after clustering\\\\group1.xlsx')"
   ]
  },
  {
   "cell_type": "code",
   "execution_count": 3,
   "id": "5218e19e",
   "metadata": {
    "scrolled": true
   },
   "outputs": [
    {
     "data": {
      "text/html": [
       "<div>\n",
       "<style scoped>\n",
       "    .dataframe tbody tr th:only-of-type {\n",
       "        vertical-align: middle;\n",
       "    }\n",
       "\n",
       "    .dataframe tbody tr th {\n",
       "        vertical-align: top;\n",
       "    }\n",
       "\n",
       "    .dataframe thead th {\n",
       "        text-align: right;\n",
       "    }\n",
       "</style>\n",
       "<table border=\"1\" class=\"dataframe\">\n",
       "  <thead>\n",
       "    <tr style=\"text-align: right;\">\n",
       "      <th></th>\n",
       "      <th>Year</th>\n",
       "      <th>Perf</th>\n",
       "      <th>Company</th>\n",
       "      <th>NS</th>\n",
       "      <th>EPS</th>\n",
       "      <th>NPM</th>\n",
       "      <th>RoE</th>\n",
       "      <th>PER</th>\n",
       "      <th>PtBV</th>\n",
       "    </tr>\n",
       "  </thead>\n",
       "  <tbody>\n",
       "    <tr>\n",
       "      <th>0</th>\n",
       "      <td>2020</td>\n",
       "      <td>0</td>\n",
       "      <td>LT</td>\n",
       "      <td>0.075669</td>\n",
       "      <td>68.04</td>\n",
       "      <td>7.44</td>\n",
       "      <td>14.31</td>\n",
       "      <td>11.88</td>\n",
       "      <td>1.70</td>\n",
       "    </tr>\n",
       "    <tr>\n",
       "      <th>1</th>\n",
       "      <td>2019</td>\n",
       "      <td>0</td>\n",
       "      <td>LT</td>\n",
       "      <td>0.129818</td>\n",
       "      <td>63.51</td>\n",
       "      <td>7.57</td>\n",
       "      <td>14.31</td>\n",
       "      <td>21.81</td>\n",
       "      <td>3.12</td>\n",
       "    </tr>\n",
       "    <tr>\n",
       "      <th>2</th>\n",
       "      <td>2018</td>\n",
       "      <td>0</td>\n",
       "      <td>LT</td>\n",
       "      <td>0.094885</td>\n",
       "      <td>52.62</td>\n",
       "      <td>7.05</td>\n",
       "      <td>13.27</td>\n",
       "      <td>24.91</td>\n",
       "      <td>3.31</td>\n",
       "    </tr>\n",
       "    <tr>\n",
       "      <th>3</th>\n",
       "      <td>2017</td>\n",
       "      <td>0</td>\n",
       "      <td>LT</td>\n",
       "      <td>0.071936</td>\n",
       "      <td>43.20</td>\n",
       "      <td>6.29</td>\n",
       "      <td>12.06</td>\n",
       "      <td>24.31</td>\n",
       "      <td>2.94</td>\n",
       "    </tr>\n",
       "    <tr>\n",
       "      <th>4</th>\n",
       "      <td>2020</td>\n",
       "      <td>0</td>\n",
       "      <td>SBIN</td>\n",
       "      <td>0.065249</td>\n",
       "      <td>22.15</td>\n",
       "      <td>6.73</td>\n",
       "      <td>8.69</td>\n",
       "      <td>8.89</td>\n",
       "      <td>0.77</td>\n",
       "    </tr>\n",
       "  </tbody>\n",
       "</table>\n",
       "</div>"
      ],
      "text/plain": [
       "   Year  Perf Company        NS    EPS   NPM    RoE    PER  PtBV\n",
       "0  2020     0      LT  0.075669  68.04  7.44  14.31  11.88  1.70\n",
       "1  2019     0      LT  0.129818  63.51  7.57  14.31  21.81  3.12\n",
       "2  2018     0      LT  0.094885  52.62  7.05  13.27  24.91  3.31\n",
       "3  2017     0      LT  0.071936  43.20  6.29  12.06  24.31  2.94\n",
       "4  2020     0    SBIN  0.065249  22.15  6.73   8.69   8.89  0.77"
      ]
     },
     "execution_count": 3,
     "metadata": {},
     "output_type": "execute_result"
    }
   ],
   "source": [
    "data.head()"
   ]
  },
  {
   "cell_type": "code",
   "execution_count": 4,
   "id": "06735c92",
   "metadata": {},
   "outputs": [
    {
     "data": {
      "text/plain": [
       "(28, 9)"
      ]
     },
     "execution_count": 4,
     "metadata": {},
     "output_type": "execute_result"
    }
   ],
   "source": [
    "data.shape"
   ]
  },
  {
   "cell_type": "code",
   "execution_count": 5,
   "id": "7328b725",
   "metadata": {},
   "outputs": [
    {
     "name": "stdout",
     "output_type": "stream",
     "text": [
      "<class 'pandas.core.frame.DataFrame'>\n",
      "RangeIndex: 28 entries, 0 to 27\n",
      "Data columns (total 9 columns):\n",
      " #   Column   Non-Null Count  Dtype  \n",
      "---  ------   --------------  -----  \n",
      " 0   Year     28 non-null     int64  \n",
      " 1   Perf     28 non-null     int64  \n",
      " 2   Company  28 non-null     object \n",
      " 3   NS       28 non-null     float64\n",
      " 4   EPS      28 non-null     float64\n",
      " 5   NPM      28 non-null     float64\n",
      " 6   RoE      28 non-null     float64\n",
      " 7   PER      28 non-null     float64\n",
      " 8   PtBV     28 non-null     float64\n",
      "dtypes: float64(6), int64(2), object(1)\n",
      "memory usage: 2.1+ KB\n"
     ]
    }
   ],
   "source": [
    "data.info()"
   ]
  },
  {
   "cell_type": "code",
   "execution_count": 6,
   "id": "5b58bdfe",
   "metadata": {
    "scrolled": true
   },
   "outputs": [
    {
     "data": {
      "text/html": [
       "<div>\n",
       "<style scoped>\n",
       "    .dataframe tbody tr th:only-of-type {\n",
       "        vertical-align: middle;\n",
       "    }\n",
       "\n",
       "    .dataframe tbody tr th {\n",
       "        vertical-align: top;\n",
       "    }\n",
       "\n",
       "    .dataframe thead th {\n",
       "        text-align: right;\n",
       "    }\n",
       "</style>\n",
       "<table border=\"1\" class=\"dataframe\">\n",
       "  <thead>\n",
       "    <tr style=\"text-align: right;\">\n",
       "      <th></th>\n",
       "      <th>Year</th>\n",
       "      <th>Perf</th>\n",
       "      <th>NS</th>\n",
       "      <th>EPS</th>\n",
       "      <th>NPM</th>\n",
       "      <th>RoE</th>\n",
       "      <th>PER</th>\n",
       "      <th>PtBV</th>\n",
       "    </tr>\n",
       "  </thead>\n",
       "  <tbody>\n",
       "    <tr>\n",
       "      <th>count</th>\n",
       "      <td>28.00000</td>\n",
       "      <td>28.000000</td>\n",
       "      <td>28.000000</td>\n",
       "      <td>28.000000</td>\n",
       "      <td>28.000000</td>\n",
       "      <td>28.000000</td>\n",
       "      <td>28.000000</td>\n",
       "      <td>28.000000</td>\n",
       "    </tr>\n",
       "    <tr>\n",
       "      <th>mean</th>\n",
       "      <td>2018.50000</td>\n",
       "      <td>0.250000</td>\n",
       "      <td>0.131389</td>\n",
       "      <td>63.890714</td>\n",
       "      <td>10.910714</td>\n",
       "      <td>14.052857</td>\n",
       "      <td>49.932500</td>\n",
       "      <td>2.944643</td>\n",
       "    </tr>\n",
       "    <tr>\n",
       "      <th>std</th>\n",
       "      <td>1.13855</td>\n",
       "      <td>0.440959</td>\n",
       "      <td>0.103510</td>\n",
       "      <td>43.542377</td>\n",
       "      <td>8.149995</td>\n",
       "      <td>10.943402</td>\n",
       "      <td>177.520445</td>\n",
       "      <td>2.109638</td>\n",
       "    </tr>\n",
       "    <tr>\n",
       "      <th>min</th>\n",
       "      <td>2017.00000</td>\n",
       "      <td>0.000000</td>\n",
       "      <td>-0.055160</td>\n",
       "      <td>-42.890000</td>\n",
       "      <td>-3.710000</td>\n",
       "      <td>-11.930000</td>\n",
       "      <td>-46.800000</td>\n",
       "      <td>0.430000</td>\n",
       "    </tr>\n",
       "    <tr>\n",
       "      <th>25%</th>\n",
       "      <td>2017.75000</td>\n",
       "      <td>0.000000</td>\n",
       "      <td>0.064080</td>\n",
       "      <td>48.180000</td>\n",
       "      <td>6.560000</td>\n",
       "      <td>9.855000</td>\n",
       "      <td>10.242500</td>\n",
       "      <td>1.310000</td>\n",
       "    </tr>\n",
       "    <tr>\n",
       "      <th>50%</th>\n",
       "      <td>2018.50000</td>\n",
       "      <td>0.000000</td>\n",
       "      <td>0.110446</td>\n",
       "      <td>67.430000</td>\n",
       "      <td>9.105000</td>\n",
       "      <td>14.310000</td>\n",
       "      <td>15.820000</td>\n",
       "      <td>2.455000</td>\n",
       "    </tr>\n",
       "    <tr>\n",
       "      <th>75%</th>\n",
       "      <td>2019.25000</td>\n",
       "      <td>0.250000</td>\n",
       "      <td>0.180048</td>\n",
       "      <td>86.580000</td>\n",
       "      <td>20.717500</td>\n",
       "      <td>16.895000</td>\n",
       "      <td>22.040000</td>\n",
       "      <td>3.985000</td>\n",
       "    </tr>\n",
       "    <tr>\n",
       "      <th>max</th>\n",
       "      <td>2020.00000</td>\n",
       "      <td>1.000000</td>\n",
       "      <td>0.453261</td>\n",
       "      <td>134.190000</td>\n",
       "      <td>22.340000</td>\n",
       "      <td>38.440000</td>\n",
       "      <td>946.450000</td>\n",
       "      <td>8.390000</td>\n",
       "    </tr>\n",
       "  </tbody>\n",
       "</table>\n",
       "</div>"
      ],
      "text/plain": [
       "             Year       Perf         NS         EPS        NPM        RoE  \\\n",
       "count    28.00000  28.000000  28.000000   28.000000  28.000000  28.000000   \n",
       "mean   2018.50000   0.250000   0.131389   63.890714  10.910714  14.052857   \n",
       "std       1.13855   0.440959   0.103510   43.542377   8.149995  10.943402   \n",
       "min    2017.00000   0.000000  -0.055160  -42.890000  -3.710000 -11.930000   \n",
       "25%    2017.75000   0.000000   0.064080   48.180000   6.560000   9.855000   \n",
       "50%    2018.50000   0.000000   0.110446   67.430000   9.105000  14.310000   \n",
       "75%    2019.25000   0.250000   0.180048   86.580000  20.717500  16.895000   \n",
       "max    2020.00000   1.000000   0.453261  134.190000  22.340000  38.440000   \n",
       "\n",
       "              PER       PtBV  \n",
       "count   28.000000  28.000000  \n",
       "mean    49.932500   2.944643  \n",
       "std    177.520445   2.109638  \n",
       "min    -46.800000   0.430000  \n",
       "25%     10.242500   1.310000  \n",
       "50%     15.820000   2.455000  \n",
       "75%     22.040000   3.985000  \n",
       "max    946.450000   8.390000  "
      ]
     },
     "execution_count": 6,
     "metadata": {},
     "output_type": "execute_result"
    }
   ],
   "source": [
    "data.describe()"
   ]
  },
  {
   "cell_type": "code",
   "execution_count": 7,
   "id": "c646c233",
   "metadata": {},
   "outputs": [
    {
     "data": {
      "image/png": "[encoded data removed]",
      "text/plain": [
       "<Figure size 1728x1008 with 2 Axes>"
      ]
     },
     "metadata": {
      "needs_background": "light"
     },
     "output_type": "display_data"
    }
   ],
   "source": [
    "fig, ax = plt.subplots(figsize = (24,14))\n",
    "sns.heatmap(data.corr(), annot = True)\n",
    "plt.show()"
   ]
  },
  {
   "cell_type": "code",
   "execution_count": 8,
   "id": "43824c45",
   "metadata": {},
   "outputs": [],
   "source": [
    "data.drop('Year', axis = 1, inplace = True)"
   ]
  },
  {
   "cell_type": "code",
   "execution_count": 9,
   "id": "cd0d74d4",
   "metadata": {},
   "outputs": [
    {
     "data": {
      "text/plain": [
       "(28, 8)"
      ]
     },
     "execution_count": 9,
     "metadata": {},
     "output_type": "execute_result"
    }
   ],
   "source": [
    "data.shape"
   ]
  },
  {
   "cell_type": "code",
   "execution_count": 10,
   "id": "7cd94e71",
   "metadata": {},
   "outputs": [
    {
     "data": {
      "text/html": [
       "<div>\n",
       "<style scoped>\n",
       "    .dataframe tbody tr th:only-of-type {\n",
       "        vertical-align: middle;\n",
       "    }\n",
       "\n",
       "    .dataframe tbody tr th {\n",
       "        vertical-align: top;\n",
       "    }\n",
       "\n",
       "    .dataframe thead th {\n",
       "        text-align: right;\n",
       "    }\n",
       "</style>\n",
       "<table border=\"1\" class=\"dataframe\">\n",
       "  <thead>\n",
       "    <tr style=\"text-align: right;\">\n",
       "      <th></th>\n",
       "      <th>Perf</th>\n",
       "      <th>Company</th>\n",
       "      <th>NS</th>\n",
       "      <th>EPS</th>\n",
       "      <th>NPM</th>\n",
       "      <th>RoE</th>\n",
       "      <th>PER</th>\n",
       "      <th>PtBV</th>\n",
       "    </tr>\n",
       "  </thead>\n",
       "  <tbody>\n",
       "    <tr>\n",
       "      <th>0</th>\n",
       "      <td>0</td>\n",
       "      <td>LT</td>\n",
       "      <td>0.075669</td>\n",
       "      <td>68.04</td>\n",
       "      <td>7.44</td>\n",
       "      <td>14.31</td>\n",
       "      <td>11.88</td>\n",
       "      <td>1.70</td>\n",
       "    </tr>\n",
       "    <tr>\n",
       "      <th>1</th>\n",
       "      <td>0</td>\n",
       "      <td>LT</td>\n",
       "      <td>0.129818</td>\n",
       "      <td>63.51</td>\n",
       "      <td>7.57</td>\n",
       "      <td>14.31</td>\n",
       "      <td>21.81</td>\n",
       "      <td>3.12</td>\n",
       "    </tr>\n",
       "    <tr>\n",
       "      <th>2</th>\n",
       "      <td>0</td>\n",
       "      <td>LT</td>\n",
       "      <td>0.094885</td>\n",
       "      <td>52.62</td>\n",
       "      <td>7.05</td>\n",
       "      <td>13.27</td>\n",
       "      <td>24.91</td>\n",
       "      <td>3.31</td>\n",
       "    </tr>\n",
       "    <tr>\n",
       "      <th>3</th>\n",
       "      <td>0</td>\n",
       "      <td>LT</td>\n",
       "      <td>0.071936</td>\n",
       "      <td>43.20</td>\n",
       "      <td>6.29</td>\n",
       "      <td>12.06</td>\n",
       "      <td>24.31</td>\n",
       "      <td>2.94</td>\n",
       "    </tr>\n",
       "    <tr>\n",
       "      <th>4</th>\n",
       "      <td>0</td>\n",
       "      <td>SBIN</td>\n",
       "      <td>0.065249</td>\n",
       "      <td>22.15</td>\n",
       "      <td>6.73</td>\n",
       "      <td>8.69</td>\n",
       "      <td>8.89</td>\n",
       "      <td>0.77</td>\n",
       "    </tr>\n",
       "  </tbody>\n",
       "</table>\n",
       "</div>"
      ],
      "text/plain": [
       "   Perf Company        NS    EPS   NPM    RoE    PER  PtBV\n",
       "0     0      LT  0.075669  68.04  7.44  14.31  11.88  1.70\n",
       "1     0      LT  0.129818  63.51  7.57  14.31  21.81  3.12\n",
       "2     0      LT  0.094885  52.62  7.05  13.27  24.91  3.31\n",
       "3     0      LT  0.071936  43.20  6.29  12.06  24.31  2.94\n",
       "4     0    SBIN  0.065249  22.15  6.73   8.69   8.89  0.77"
      ]
     },
     "execution_count": 10,
     "metadata": {},
     "output_type": "execute_result"
    }
   ],
   "source": [
    "data.head()"
   ]
  },
  {
   "cell_type": "code",
   "execution_count": 11,
   "id": "737a948f",
   "metadata": {},
   "outputs": [
    {
     "data": {
      "image/png": "[encoded data removed]",
      "text/plain": [
       "<Figure size 432x288 with 1 Axes>"
      ]
     },
     "metadata": {
      "needs_background": "light"
     },
     "output_type": "display_data"
    }
   ],
   "source": [
    "sns.boxplot(x = 'Perf', y = 'NS', data = data)\n",
    "plt.show()"
   ]
  },
  {
   "cell_type": "code",
   "execution_count": 12,
   "id": "5fed58c0",
   "metadata": {},
   "outputs": [
    {
     "data": {
      "image/png": "[encoded data removed]",
      "text/plain": [
       "<Figure size 432x288 with 1 Axes>"
      ]
     },
     "metadata": {
      "needs_background": "light"
     },
     "output_type": "display_data"
    }
   ],
   "source": [
    "sns.boxplot(x = 'Perf', y = 'EPS', data = data)\n",
    "plt.show()"
   ]
  },
  {
   "cell_type": "code",
   "execution_count": 13,
   "id": "16054c2d",
   "metadata": {},
   "outputs": [
    {
     "data": {
      "image/png": "[encoded data removed]",
      "text/plain": [
       "<Figure size 432x288 with 1 Axes>"
      ]
     },
     "metadata": {
      "needs_background": "light"
     },
     "output_type": "display_data"
    }
   ],
   "source": [
    "sns.boxplot(x = 'Perf', y = 'NPM', data = data)\n",
    "plt.show()"
   ]
  },
  {
   "cell_type": "code",
   "execution_count": 14,
   "id": "9eaf356f",
   "metadata": {},
   "outputs": [
    {
     "data": {
      "image/png": "[encoded data removed]",
      "text/plain": [
       "<Figure size 432x288 with 1 Axes>"
      ]
     },
     "metadata": {
      "needs_background": "light"
     },
     "output_type": "display_data"
    }
   ],
   "source": [
    "sns.boxplot(x = 'Perf', y = 'RoE', data = data)\n",
    "plt.show()"
   ]
  },
  {
   "cell_type": "code",
   "execution_count": 15,
   "id": "e31353e1",
   "metadata": {},
   "outputs": [
    {
     "data": {
      "image/png": "[encoded data removed]",
      "text/plain": [
       "<Figure size 432x288 with 1 Axes>"
      ]
     },
     "metadata": {
      "needs_background": "light"
     },
     "output_type": "display_data"
    }
   ],
   "source": [
    "sns.boxplot(x = 'Perf', y = 'PER', data = data)\n",
    "plt.show()"
   ]
  },
  {
   "cell_type": "code",
   "execution_count": 16,
   "id": "e1bd91de",
   "metadata": {},
   "outputs": [
    {
     "data": {
      "image/png": "[encoded data removed]",
      "text/plain": [
       "<Figure size 432x288 with 1 Axes>"
      ]
     },
     "metadata": {
      "needs_background": "light"
     },
     "output_type": "display_data"
    }
   ],
   "source": [
    "sns.boxplot(x = 'Perf', y = 'PtBV', data = data)\n",
    "plt.show()"
   ]
  },
  {
   "cell_type": "code",
   "execution_count": 17,
   "id": "5efd5bf4",
   "metadata": {
    "scrolled": true
   },
   "outputs": [
    {
     "data": {
      "text/html": [
       "<div>\n",
       "<style scoped>\n",
       "    .dataframe tbody tr th:only-of-type {\n",
       "        vertical-align: middle;\n",
       "    }\n",
       "\n",
       "    .dataframe tbody tr th {\n",
       "        vertical-align: top;\n",
       "    }\n",
       "\n",
       "    .dataframe thead th {\n",
       "        text-align: right;\n",
       "    }\n",
       "</style>\n",
       "<table border=\"1\" class=\"dataframe\">\n",
       "  <thead>\n",
       "    <tr style=\"text-align: right;\">\n",
       "      <th></th>\n",
       "      <th>Perf</th>\n",
       "      <th>Company</th>\n",
       "      <th>NS</th>\n",
       "      <th>EPS</th>\n",
       "      <th>NPM</th>\n",
       "      <th>RoE</th>\n",
       "      <th>PER</th>\n",
       "      <th>PtBV</th>\n",
       "    </tr>\n",
       "  </thead>\n",
       "  <tbody>\n",
       "    <tr>\n",
       "      <th>0</th>\n",
       "      <td>0</td>\n",
       "      <td>LT</td>\n",
       "      <td>0.075669</td>\n",
       "      <td>68.04</td>\n",
       "      <td>7.44</td>\n",
       "      <td>14.31</td>\n",
       "      <td>11.88</td>\n",
       "      <td>1.70</td>\n",
       "    </tr>\n",
       "    <tr>\n",
       "      <th>1</th>\n",
       "      <td>0</td>\n",
       "      <td>LT</td>\n",
       "      <td>0.129818</td>\n",
       "      <td>63.51</td>\n",
       "      <td>7.57</td>\n",
       "      <td>14.31</td>\n",
       "      <td>21.81</td>\n",
       "      <td>3.12</td>\n",
       "    </tr>\n",
       "    <tr>\n",
       "      <th>2</th>\n",
       "      <td>0</td>\n",
       "      <td>LT</td>\n",
       "      <td>0.094885</td>\n",
       "      <td>52.62</td>\n",
       "      <td>7.05</td>\n",
       "      <td>13.27</td>\n",
       "      <td>24.91</td>\n",
       "      <td>3.31</td>\n",
       "    </tr>\n",
       "    <tr>\n",
       "      <th>3</th>\n",
       "      <td>0</td>\n",
       "      <td>LT</td>\n",
       "      <td>0.071936</td>\n",
       "      <td>43.20</td>\n",
       "      <td>6.29</td>\n",
       "      <td>12.06</td>\n",
       "      <td>24.31</td>\n",
       "      <td>2.94</td>\n",
       "    </tr>\n",
       "    <tr>\n",
       "      <th>4</th>\n",
       "      <td>0</td>\n",
       "      <td>SBIN</td>\n",
       "      <td>0.065249</td>\n",
       "      <td>22.15</td>\n",
       "      <td>6.73</td>\n",
       "      <td>8.69</td>\n",
       "      <td>8.89</td>\n",
       "      <td>0.77</td>\n",
       "    </tr>\n",
       "  </tbody>\n",
       "</table>\n",
       "</div>"
      ],
      "text/plain": [
       "   Perf Company        NS    EPS   NPM    RoE    PER  PtBV\n",
       "0     0      LT  0.075669  68.04  7.44  14.31  11.88  1.70\n",
       "1     0      LT  0.129818  63.51  7.57  14.31  21.81  3.12\n",
       "2     0      LT  0.094885  52.62  7.05  13.27  24.91  3.31\n",
       "3     0      LT  0.071936  43.20  6.29  12.06  24.31  2.94\n",
       "4     0    SBIN  0.065249  22.15  6.73   8.69   8.89  0.77"
      ]
     },
     "execution_count": 17,
     "metadata": {},
     "output_type": "execute_result"
    }
   ],
   "source": [
    "data.head()"
   ]
  },
  {
   "cell_type": "code",
   "execution_count": 18,
   "id": "93449706",
   "metadata": {},
   "outputs": [
    {
     "data": {
      "image/png": "[encoded data removed]",
      "text/plain": [
       "<Figure size 1728x1008 with 2 Axes>"
      ]
     },
     "metadata": {
      "needs_background": "light"
     },
     "output_type": "display_data"
    }
   ],
   "source": [
    "fig, ax = plt.subplots(figsize = (24,14))\n",
    "sns.heatmap(data.corr(), annot = True)\n",
    "plt.show()"
   ]
  },
  {
   "cell_type": "markdown",
   "id": "f4f578f5",
   "metadata": {},
   "source": [
    "***"
   ]
  },
  {
   "cell_type": "code",
   "execution_count": 19,
   "id": "d9fcae94",
   "metadata": {},
   "outputs": [],
   "source": [
    "x = data.drop(['Perf', 'Company'], axis = 1).values\n",
    "y = data['Perf'].values"
   ]
  },
  {
   "cell_type": "code",
   "execution_count": 21,
   "id": "39e4173a",
   "metadata": {},
   "outputs": [],
   "source": [
    "data2021 = pd.read_excel('C:\\\\Users\\\\user\\\\Desktop\\\\New folder\\\\Projects\\\\sensex\\\\after clustering\\\\2021group1.xlsx')"
   ]
  },
  {
   "cell_type": "code",
   "execution_count": 22,
   "id": "bacad965",
   "metadata": {},
   "outputs": [
    {
     "data": {
      "text/html": [
       "<div>\n",
       "<style scoped>\n",
       "    .dataframe tbody tr th:only-of-type {\n",
       "        vertical-align: middle;\n",
       "    }\n",
       "\n",
       "    .dataframe tbody tr th {\n",
       "        vertical-align: top;\n",
       "    }\n",
       "\n",
       "    .dataframe thead th {\n",
       "        text-align: right;\n",
       "    }\n",
       "</style>\n",
       "<table border=\"1\" class=\"dataframe\">\n",
       "  <thead>\n",
       "    <tr style=\"text-align: right;\">\n",
       "      <th></th>\n",
       "      <th>Year</th>\n",
       "      <th>Perf</th>\n",
       "      <th>Company</th>\n",
       "      <th>NS</th>\n",
       "      <th>EPS</th>\n",
       "      <th>NPM</th>\n",
       "      <th>RoE</th>\n",
       "      <th>PER</th>\n",
       "      <th>PtBV</th>\n",
       "    </tr>\n",
       "  </thead>\n",
       "  <tbody>\n",
       "    <tr>\n",
       "      <th>0</th>\n",
       "      <td>2021</td>\n",
       "      <td>1</td>\n",
       "      <td>LT</td>\n",
       "      <td>-0.065128</td>\n",
       "      <td>82.49</td>\n",
       "      <td>9.49</td>\n",
       "      <td>15.26</td>\n",
       "      <td>17.20</td>\n",
       "      <td>2.63</td>\n",
       "    </tr>\n",
       "    <tr>\n",
       "      <th>1</th>\n",
       "      <td>2021</td>\n",
       "      <td>1</td>\n",
       "      <td>SBIN</td>\n",
       "      <td>0.030624</td>\n",
       "      <td>25.11</td>\n",
       "      <td>8.73</td>\n",
       "      <td>8.89</td>\n",
       "      <td>14.51</td>\n",
       "      <td>1.29</td>\n",
       "    </tr>\n",
       "    <tr>\n",
       "      <th>2</th>\n",
       "      <td>2021</td>\n",
       "      <td>1</td>\n",
       "      <td>TATASTEEL</td>\n",
       "      <td>0.049157</td>\n",
       "      <td>63.78</td>\n",
       "      <td>5.03</td>\n",
       "      <td>10.19</td>\n",
       "      <td>12.73</td>\n",
       "      <td>1.32</td>\n",
       "    </tr>\n",
       "    <tr>\n",
       "      <th>3</th>\n",
       "      <td>2021</td>\n",
       "      <td>1</td>\n",
       "      <td>TCS</td>\n",
       "      <td>0.046053</td>\n",
       "      <td>86.71</td>\n",
       "      <td>19.83</td>\n",
       "      <td>37.52</td>\n",
       "      <td>36.65</td>\n",
       "      <td>13.60</td>\n",
       "    </tr>\n",
       "    <tr>\n",
       "      <th>4</th>\n",
       "      <td>2021</td>\n",
       "      <td>0</td>\n",
       "      <td>HDFCBANK</td>\n",
       "      <td>0.052075</td>\n",
       "      <td>57.88</td>\n",
       "      <td>24.78</td>\n",
       "      <td>15.17</td>\n",
       "      <td>25.81</td>\n",
       "      <td>3.92</td>\n",
       "    </tr>\n",
       "  </tbody>\n",
       "</table>\n",
       "</div>"
      ],
      "text/plain": [
       "   Year  Perf    Company        NS    EPS    NPM    RoE    PER   PtBV\n",
       "0  2021     1         LT -0.065128  82.49   9.49  15.26  17.20   2.63\n",
       "1  2021     1       SBIN  0.030624  25.11   8.73   8.89  14.51   1.29\n",
       "2  2021     1  TATASTEEL  0.049157  63.78   5.03  10.19  12.73   1.32\n",
       "3  2021     1        TCS  0.046053  86.71  19.83  37.52  36.65  13.60\n",
       "4  2021     0   HDFCBANK  0.052075  57.88  24.78  15.17  25.81   3.92"
      ]
     },
     "execution_count": 22,
     "metadata": {},
     "output_type": "execute_result"
    }
   ],
   "source": [
    "data2021.head()"
   ]
  },
  {
   "cell_type": "code",
   "execution_count": 23,
   "id": "9a2bc735",
   "metadata": {},
   "outputs": [
    {
     "data": {
      "text/plain": [
       "(7, 9)"
      ]
     },
     "execution_count": 23,
     "metadata": {},
     "output_type": "execute_result"
    }
   ],
   "source": [
    "data2021.shape"
   ]
  },
  {
   "cell_type": "code",
   "execution_count": 24,
   "id": "652f5e0a",
   "metadata": {},
   "outputs": [],
   "source": [
    "data2021.drop('Year', axis = 1, inplace = True)"
   ]
  },
  {
   "cell_type": "code",
   "execution_count": 25,
   "id": "7019da25",
   "metadata": {},
   "outputs": [],
   "source": [
    "x2021 = data2021.drop(['Perf', 'Company'], axis = 1).values\n",
    "y2021 = data2021['Perf'].values"
   ]
  },
  {
   "cell_type": "markdown",
   "id": "0005ed1d",
   "metadata": {},
   "source": [
    "### Logistic Regression"
   ]
  },
  {
   "cell_type": "code",
   "execution_count": 26,
   "id": "a6189063",
   "metadata": {},
   "outputs": [],
   "source": [
    "from sklearn.linear_model import LogisticRegression\n",
    "lr = LogisticRegression()\n",
    "result = lr.fit(x, y)"
   ]
  },
  {
   "cell_type": "code",
   "execution_count": 27,
   "id": "b2af8655",
   "metadata": {},
   "outputs": [],
   "source": [
    "y_predlr = lr.predict(x2021)"
   ]
  },
  {
   "cell_type": "code",
   "execution_count": 28,
   "id": "5ca82720",
   "metadata": {},
   "outputs": [
    {
     "name": "stdout",
     "output_type": "stream",
     "text": [
      "0.5714285714285714\n",
      "[[3 0]\n",
      " [3 1]]\n"
     ]
    }
   ],
   "source": [
    "from sklearn.metrics import accuracy_score, confusion_matrix\n",
    "\n",
    "acclr = accuracy_score(y2021, y_predlr)\n",
    "print(acclr)\n",
    "\n",
    "cmlr = confusion_matrix(y2021, y_predlr)\n",
    "print(cmlr)"
   ]
  },
  {
   "cell_type": "markdown",
   "id": "cbfccf4c",
   "metadata": {},
   "source": [
    "## Decision Tree"
   ]
  },
  {
   "cell_type": "markdown",
   "id": "d63cd4e5",
   "metadata": {},
   "source": [
    "from sklearn.tree import DecisionTreeClassifier\n",
    "dtc = DecisionTreeClassifier(random_state = 7)\n",
    "dtc.fit(x, y)"
   ]
  },
  {
   "cell_type": "markdown",
   "id": "d49c1f43",
   "metadata": {},
   "source": [
    "y_preddtc = dtc.predict(x2021)"
   ]
  },
  {
   "cell_type": "markdown",
   "id": "d8805a7f",
   "metadata": {},
   "source": [
    "accdtc = accuracy_score(y2021, y_preddtc)\n",
    "print(accdtc)\n",
    "\n",
    "cmdtc = confusion_matrix(y2021, y_preddtc)\n",
    "print(cmdtc)"
   ]
  },
  {
   "cell_type": "markdown",
   "id": "d671555b",
   "metadata": {},
   "source": [
    "### Random Forest"
   ]
  },
  {
   "cell_type": "markdown",
   "id": "b5021165",
   "metadata": {},
   "source": [
    "from sklearn.ensemble import RandomForestClassifier\n",
    "rfc = RandomForestClassifier(n_estimators = 10, random_state = 7)\n",
    "rfc.fit(x, y)"
   ]
  },
  {
   "cell_type": "markdown",
   "id": "5004c5d2",
   "metadata": {},
   "source": [
    "y_predrfc = rfc.predict(x2021)"
   ]
  },
  {
   "cell_type": "markdown",
   "id": "2b8aaa4b",
   "metadata": {},
   "source": [
    "accrfc = accuracy_score(y2021, y_predrfc)\n",
    "print(accrfc)\n",
    "\n",
    "cmrfc = confusion_matrix(y2021, y_predrfc)\n",
    "print(cmrfc)"
   ]
  },
  {
   "cell_type": "markdown",
   "id": "0b740892",
   "metadata": {},
   "source": [
    "***"
   ]
  },
  {
   "cell_type": "raw",
   "id": "2dea8655",
   "metadata": {},
   "source": [
    "expected = dataset.target\n",
    "predicted = model.predict(dataset.data)\n",
    "\n",
    "\n",
    "mse = np.mean((predicted-expected)**2)\n",
    "print model.intercept_, model.coef_, mse, \n",
    "print(model.score(dataset.data, dataset.target))"
   ]
  },
  {
   "cell_type": "code",
   "execution_count": null,
   "id": "e3088cde",
   "metadata": {},
   "outputs": [],
   "source": []
  },
  {
   "cell_type": "code",
   "execution_count": 29,
   "id": "90ef49a5",
   "metadata": {},
   "outputs": [],
   "source": [
    "expected = y\n",
    "predicted = lr.predict(x)\n",
    "\n",
    "\n",
    "mse = np.mean((predicted - expected)**2)"
   ]
  },
  {
   "cell_type": "code",
   "execution_count": 30,
   "id": "d9705dda",
   "metadata": {},
   "outputs": [
    {
     "name": "stdout",
     "output_type": "stream",
     "text": [
      "intercept of the model is:  [-0.21635493]\n",
      "the coefficients are:  [[ 0.0847004  -0.02739379  0.0009479   0.01924417 -0.00572941  0.19942455]]\n",
      "the mse value is:  0.25\n"
     ]
    }
   ],
   "source": [
    "print(\"intercept of the model is: \", lr.intercept_) \n",
    "print(\"the coefficients are: \", lr.coef_)\n",
    "print(\"the mse value is: \", mse)"
   ]
  },
  {
   "cell_type": "markdown",
   "id": "3a113c64",
   "metadata": {},
   "source": [
    "print(lr.score(x,y))"
   ]
  },
  {
   "cell_type": "markdown",
   "id": "f79f41bb",
   "metadata": {},
   "source": [
    "***"
   ]
  },
  {
   "cell_type": "code",
   "execution_count": 31,
   "id": "a436ca7d",
   "metadata": {},
   "outputs": [
    {
     "name": "stdout",
     "output_type": "stream",
     "text": [
      "              precision    recall  f1-score   support\n",
      "\n",
      "           0       0.50      1.00      0.67         3\n",
      "           1       1.00      0.25      0.40         4\n",
      "\n",
      "    accuracy                           0.57         7\n",
      "   macro avg       0.75      0.62      0.53         7\n",
      "weighted avg       0.79      0.57      0.51         7\n",
      "\n"
     ]
    }
   ],
   "source": [
    "from sklearn.metrics import classification_report\n",
    "print(classification_report(y2021, y_predlr))"
   ]
  },
  {
   "cell_type": "code",
   "execution_count": 33,
   "id": "98e22b7b",
   "metadata": {},
   "outputs": [],
   "source": [
    "from sklearn import metrics"
   ]
  },
  {
   "cell_type": "code",
   "execution_count": 35,
   "id": "90870576",
   "metadata": {},
   "outputs": [
    {
     "name": "stdout",
     "output_type": "stream",
     "text": [
      "cohen kappa score:  0.2222\n"
     ]
    }
   ],
   "source": [
    "print('cohen kappa score: ', np.round(metrics.cohen_kappa_score(y2021,y_predlr),4))"
   ]
  },
  {
   "cell_type": "code",
   "execution_count": 36,
   "id": "88d47df8",
   "metadata": {},
   "outputs": [
    {
     "name": "stdout",
     "output_type": "stream",
     "text": [
      "matthews corrcoef:  0.3536\n"
     ]
    }
   ],
   "source": [
    "print('matthews corrcoef: ', np.round(metrics.matthews_corrcoef(y2021,y_predlr),4))"
   ]
  },
  {
   "cell_type": "code",
   "execution_count": 49,
   "id": "10dff8f9",
   "metadata": {},
   "outputs": [],
   "source": [
    "import statsmodels.api as sm"
   ]
  },
  {
   "cell_type": "code",
   "execution_count": 54,
   "id": "fbdee880",
   "metadata": {},
   "outputs": [
    {
     "name": "stdout",
     "output_type": "stream",
     "text": [
      "Optimization terminated successfully.\n",
      "         Current function value: 0.485646\n",
      "         Iterations 9\n",
      "                           Logit Regression Results                           \n",
      "==============================================================================\n",
      "Dep. Variable:                      y   No. Observations:                   28\n",
      "Model:                          Logit   Df Residuals:                       22\n",
      "Method:                           MLE   Df Model:                            5\n",
      "Date:                Sat, 12 Feb 2022   Pseudo R-squ.:                  0.1364\n",
      "Time:                        04:02:54   Log-Likelihood:                -13.598\n",
      "converged:                       True   LL-Null:                       -15.745\n",
      "Covariance Type:            nonrobust   LLR p-value:                    0.5078\n",
      "==============================================================================\n",
      "                 coef    std err          z      P>|z|      [0.025      0.975]\n",
      "------------------------------------------------------------------------------\n",
      "x1             1.9676      5.037      0.391      0.696      -7.905      11.840\n",
      "x2            -0.0348      0.026     -1.337      0.181      -0.086       0.016\n",
      "x3            -0.0094      0.107     -0.088      0.930      -0.219       0.200\n",
      "x4             0.0456      0.138      0.331      0.741      -0.224       0.316\n",
      "x5            -0.0077      0.015     -0.527      0.598      -0.036       0.021\n",
      "x6             0.1355      0.465      0.292      0.771      -0.775       1.046\n",
      "==============================================================================\n"
     ]
    }
   ],
   "source": [
    "import statsmodels.api as sm\n",
    "logit_model=sm.Logit(y,x)\n",
    "result=logit_model.fit()\n",
    "print(result.summary())"
   ]
  },
  {
   "cell_type": "code",
   "execution_count": 55,
   "id": "1c24212c",
   "metadata": {},
   "outputs": [
    {
     "name": "stdout",
     "output_type": "stream",
     "text": [
      "39.19615126054858\n"
     ]
    }
   ],
   "source": [
    "print(result.aic)"
   ]
  },
  {
   "cell_type": "code",
   "execution_count": null,
   "id": "359b59fb",
   "metadata": {},
   "outputs": [],
   "source": []
  }
 ],
 "metadata": {
  "kernelspec": {
   "display_name": "Python 3",
   "language": "python",
   "name": "python3"
  },
  "language_info": {
   "codemirror_mode": {
    "name": "ipython",
    "version": 3
   },
   "file_extension": ".py",
   "mimetype": "text/x-python",
   "name": "python",
   "nbconvert_exporter": "python",
   "pygments_lexer": "ipython3",
   "version": "3.8.8"
  }
 },
 "nbformat": 4,
 "nbformat_minor": 5
}
