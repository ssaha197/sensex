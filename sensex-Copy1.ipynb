{
 "cells": [
  {
   "cell_type": "code",
   "execution_count": 1,
   "id": "9fe03704",
   "metadata": {},
   "outputs": [],
   "source": [
    "import numpy as np\n",
    "import pandas as pd\n",
    "import matplotlib.pyplot as plt\n",
    "%matplotlib inline\n",
    "import seaborn as sns\n",
    "import warnings\n",
    "warnings.filterwarnings('ignore')"
   ]
  },
  {
   "cell_type": "code",
   "execution_count": 2,
   "id": "39caa8b8",
   "metadata": {},
   "outputs": [],
   "source": [
    "data = pd.read_excel('C:\\\\Users\\\\user\\\\Desktop\\\\New folder\\\\Projects\\\\banhi sir tinni maam\\\\Book1.xlsx')"
   ]
  },
  {
   "cell_type": "code",
   "execution_count": 3,
   "id": "5218e19e",
   "metadata": {
    "scrolled": true
   },
   "outputs": [
    {
     "data": {
      "text/html": [
       "<div>\n",
       "<style scoped>\n",
       "    .dataframe tbody tr th:only-of-type {\n",
       "        vertical-align: middle;\n",
       "    }\n",
       "\n",
       "    .dataframe tbody tr th {\n",
       "        vertical-align: top;\n",
       "    }\n",
       "\n",
       "    .dataframe thead th {\n",
       "        text-align: right;\n",
       "    }\n",
       "</style>\n",
       "<table border=\"1\" class=\"dataframe\">\n",
       "  <thead>\n",
       "    <tr style=\"text-align: right;\">\n",
       "      <th></th>\n",
       "      <th>Year</th>\n",
       "      <th>Perf</th>\n",
       "      <th>Company</th>\n",
       "      <th>NS</th>\n",
       "      <th>EPS</th>\n",
       "      <th>NPM</th>\n",
       "      <th>RoE</th>\n",
       "      <th>PER</th>\n",
       "      <th>PtBV</th>\n",
       "    </tr>\n",
       "  </thead>\n",
       "  <tbody>\n",
       "    <tr>\n",
       "      <th>0</th>\n",
       "      <td>2020</td>\n",
       "      <td>1</td>\n",
       "      <td>INFY</td>\n",
       "      <td>0.098168</td>\n",
       "      <td>38.97</td>\n",
       "      <td>18.32</td>\n",
       "      <td>25.35</td>\n",
       "      <td>55.22</td>\n",
       "      <td>4.15</td>\n",
       "    </tr>\n",
       "    <tr>\n",
       "      <th>1</th>\n",
       "      <td>2019</td>\n",
       "      <td>0</td>\n",
       "      <td>INFY</td>\n",
       "      <td>0.172329</td>\n",
       "      <td>35.44</td>\n",
       "      <td>18.63</td>\n",
       "      <td>23.71</td>\n",
       "      <td>72.18</td>\n",
       "      <td>4.96</td>\n",
       "    </tr>\n",
       "    <tr>\n",
       "      <th>2</th>\n",
       "      <td>2018</td>\n",
       "      <td>0</td>\n",
       "      <td>INFY</td>\n",
       "      <td>0.029759</td>\n",
       "      <td>71.07</td>\n",
       "      <td>22.82</td>\n",
       "      <td>24.68</td>\n",
       "      <td>73.91</td>\n",
       "      <td>3.80</td>\n",
       "    </tr>\n",
       "    <tr>\n",
       "      <th>3</th>\n",
       "      <td>2017</td>\n",
       "      <td>0</td>\n",
       "      <td>INFY</td>\n",
       "      <td>0.096779</td>\n",
       "      <td>62.80</td>\n",
       "      <td>21.00</td>\n",
       "      <td>20.80</td>\n",
       "      <td>56.64</td>\n",
       "      <td>3.39</td>\n",
       "    </tr>\n",
       "    <tr>\n",
       "      <th>4</th>\n",
       "      <td>2020</td>\n",
       "      <td>0</td>\n",
       "      <td>BAJAJFINSV</td>\n",
       "      <td>0.275608</td>\n",
       "      <td>211.70</td>\n",
       "      <td>11.02</td>\n",
       "      <td>10.76</td>\n",
       "      <td>21.69</td>\n",
       "      <td>2.33</td>\n",
       "    </tr>\n",
       "  </tbody>\n",
       "</table>\n",
       "</div>"
      ],
      "text/plain": [
       "   Year  Perf     Company        NS     EPS    NPM    RoE    PER  PtBV\n",
       "0  2020     1        INFY  0.098168   38.97  18.32  25.35  55.22  4.15\n",
       "1  2019     0        INFY  0.172329   35.44  18.63  23.71  72.18  4.96\n",
       "2  2018     0        INFY  0.029759   71.07  22.82  24.68  73.91  3.80\n",
       "3  2017     0        INFY  0.096779   62.80  21.00  20.80  56.64  3.39\n",
       "4  2020     0  BAJAJFINSV  0.275608  211.70  11.02  10.76  21.69  2.33"
      ]
     },
     "execution_count": 3,
     "metadata": {},
     "output_type": "execute_result"
    }
   ],
   "source": [
    "data.head()"
   ]
  },
  {
   "cell_type": "code",
   "execution_count": 4,
   "id": "06735c92",
   "metadata": {},
   "outputs": [
    {
     "data": {
      "text/plain": [
       "(120, 9)"
      ]
     },
     "execution_count": 4,
     "metadata": {},
     "output_type": "execute_result"
    }
   ],
   "source": [
    "data.shape"
   ]
  },
  {
   "cell_type": "code",
   "execution_count": 5,
   "id": "7328b725",
   "metadata": {},
   "outputs": [
    {
     "name": "stdout",
     "output_type": "stream",
     "text": [
      "<class 'pandas.core.frame.DataFrame'>\n",
      "RangeIndex: 120 entries, 0 to 119\n",
      "Data columns (total 9 columns):\n",
      " #   Column   Non-Null Count  Dtype  \n",
      "---  ------   --------------  -----  \n",
      " 0   Year     120 non-null    int64  \n",
      " 1   Perf     120 non-null    int64  \n",
      " 2   Company  120 non-null    object \n",
      " 3   NS       120 non-null    float64\n",
      " 4   EPS      120 non-null    float64\n",
      " 5   NPM      120 non-null    float64\n",
      " 6   RoE      120 non-null    float64\n",
      " 7   PER      120 non-null    float64\n",
      " 8   PtBV     120 non-null    float64\n",
      "dtypes: float64(6), int64(2), object(1)\n",
      "memory usage: 8.6+ KB\n"
     ]
    }
   ],
   "source": [
    "data.info()"
   ]
  },
  {
   "cell_type": "code",
   "execution_count": 6,
   "id": "5b58bdfe",
   "metadata": {
    "scrolled": true
   },
   "outputs": [
    {
     "data": {
      "text/html": [
       "<div>\n",
       "<style scoped>\n",
       "    .dataframe tbody tr th:only-of-type {\n",
       "        vertical-align: middle;\n",
       "    }\n",
       "\n",
       "    .dataframe tbody tr th {\n",
       "        vertical-align: top;\n",
       "    }\n",
       "\n",
       "    .dataframe thead th {\n",
       "        text-align: right;\n",
       "    }\n",
       "</style>\n",
       "<table border=\"1\" class=\"dataframe\">\n",
       "  <thead>\n",
       "    <tr style=\"text-align: right;\">\n",
       "      <th></th>\n",
       "      <th>Year</th>\n",
       "      <th>Perf</th>\n",
       "      <th>NS</th>\n",
       "      <th>EPS</th>\n",
       "      <th>NPM</th>\n",
       "      <th>RoE</th>\n",
       "      <th>PER</th>\n",
       "      <th>PtBV</th>\n",
       "    </tr>\n",
       "  </thead>\n",
       "  <tbody>\n",
       "    <tr>\n",
       "      <th>count</th>\n",
       "      <td>120.000000</td>\n",
       "      <td>120.000000</td>\n",
       "      <td>120.000000</td>\n",
       "      <td>120.000000</td>\n",
       "      <td>120.000000</td>\n",
       "      <td>120.000000</td>\n",
       "      <td>120.000000</td>\n",
       "      <td>120.000000</td>\n",
       "    </tr>\n",
       "    <tr>\n",
       "      <th>mean</th>\n",
       "      <td>2018.500000</td>\n",
       "      <td>0.316667</td>\n",
       "      <td>0.137247</td>\n",
       "      <td>57.271583</td>\n",
       "      <td>12.898167</td>\n",
       "      <td>17.482167</td>\n",
       "      <td>36.484417</td>\n",
       "      <td>5.928083</td>\n",
       "    </tr>\n",
       "    <tr>\n",
       "      <th>std</th>\n",
       "      <td>1.122722</td>\n",
       "      <td>0.467127</td>\n",
       "      <td>0.198180</td>\n",
       "      <td>59.722767</td>\n",
       "      <td>8.648439</td>\n",
       "      <td>16.583516</td>\n",
       "      <td>97.135751</td>\n",
       "      <td>11.832762</td>\n",
       "    </tr>\n",
       "    <tr>\n",
       "      <th>min</th>\n",
       "      <td>2017.000000</td>\n",
       "      <td>0.000000</td>\n",
       "      <td>-0.280166</td>\n",
       "      <td>-63.410000</td>\n",
       "      <td>-35.770000</td>\n",
       "      <td>-41.710000</td>\n",
       "      <td>-247.780000</td>\n",
       "      <td>-37.510000</td>\n",
       "    </tr>\n",
       "    <tr>\n",
       "      <th>25%</th>\n",
       "      <td>2017.750000</td>\n",
       "      <td>0.000000</td>\n",
       "      <td>0.060634</td>\n",
       "      <td>15.695000</td>\n",
       "      <td>7.537500</td>\n",
       "      <td>10.702500</td>\n",
       "      <td>10.702500</td>\n",
       "      <td>1.867500</td>\n",
       "    </tr>\n",
       "    <tr>\n",
       "      <th>50%</th>\n",
       "      <td>2018.500000</td>\n",
       "      <td>0.000000</td>\n",
       "      <td>0.105252</td>\n",
       "      <td>41.885000</td>\n",
       "      <td>12.655000</td>\n",
       "      <td>15.005000</td>\n",
       "      <td>22.150000</td>\n",
       "      <td>3.180000</td>\n",
       "    </tr>\n",
       "    <tr>\n",
       "      <th>75%</th>\n",
       "      <td>2019.250000</td>\n",
       "      <td>1.000000</td>\n",
       "      <td>0.177254</td>\n",
       "      <td>75.460000</td>\n",
       "      <td>18.465000</td>\n",
       "      <td>21.332500</td>\n",
       "      <td>37.795000</td>\n",
       "      <td>4.767500</td>\n",
       "    </tr>\n",
       "    <tr>\n",
       "      <th>max</th>\n",
       "      <td>2020.000000</td>\n",
       "      <td>1.000000</td>\n",
       "      <td>1.861824</td>\n",
       "      <td>260.880000</td>\n",
       "      <td>31.540000</td>\n",
       "      <td>102.580000</td>\n",
       "      <td>946.450000</td>\n",
       "      <td>74.320000</td>\n",
       "    </tr>\n",
       "  </tbody>\n",
       "</table>\n",
       "</div>"
      ],
      "text/plain": [
       "              Year        Perf          NS         EPS         NPM  \\\n",
       "count   120.000000  120.000000  120.000000  120.000000  120.000000   \n",
       "mean   2018.500000    0.316667    0.137247   57.271583   12.898167   \n",
       "std       1.122722    0.467127    0.198180   59.722767    8.648439   \n",
       "min    2017.000000    0.000000   -0.280166  -63.410000  -35.770000   \n",
       "25%    2017.750000    0.000000    0.060634   15.695000    7.537500   \n",
       "50%    2018.500000    0.000000    0.105252   41.885000   12.655000   \n",
       "75%    2019.250000    1.000000    0.177254   75.460000   18.465000   \n",
       "max    2020.000000    1.000000    1.861824  260.880000   31.540000   \n",
       "\n",
       "              RoE         PER        PtBV  \n",
       "count  120.000000  120.000000  120.000000  \n",
       "mean    17.482167   36.484417    5.928083  \n",
       "std     16.583516   97.135751   11.832762  \n",
       "min    -41.710000 -247.780000  -37.510000  \n",
       "25%     10.702500   10.702500    1.867500  \n",
       "50%     15.005000   22.150000    3.180000  \n",
       "75%     21.332500   37.795000    4.767500  \n",
       "max    102.580000  946.450000   74.320000  "
      ]
     },
     "execution_count": 6,
     "metadata": {},
     "output_type": "execute_result"
    }
   ],
   "source": [
    "data.describe()"
   ]
  },
  {
   "cell_type": "code",
   "execution_count": 7,
   "id": "4a86f0c0",
   "metadata": {},
   "outputs": [
    {
     "data": {
      "image/png": "[encoded data removed]",
      "text/plain": [
       "<Figure size 1728x1008 with 2 Axes>"
      ]
     },
     "metadata": {
      "needs_background": "light"
     },
     "output_type": "display_data"
    }
   ],
   "source": [
    "fig, ax = plt.subplots(figsize = (24,14))\n",
    "sns.heatmap(data.corr(), annot = True)\n",
    "plt.show()"
   ]
  },
  {
   "cell_type": "code",
   "execution_count": 8,
   "id": "e03d3858",
   "metadata": {},
   "outputs": [],
   "source": [
    "data.Year = data.Year-2016"
   ]
  },
  {
   "cell_type": "code",
   "execution_count": 9,
   "id": "4310cc6a",
   "metadata": {},
   "outputs": [
    {
     "data": {
      "text/plain": [
       "0      4\n",
       "1      3\n",
       "2      2\n",
       "3      1\n",
       "4      4\n",
       "      ..\n",
       "115    1\n",
       "116    4\n",
       "117    3\n",
       "118    2\n",
       "119    1\n",
       "Name: Year, Length: 120, dtype: int64"
      ]
     },
     "execution_count": 9,
     "metadata": {},
     "output_type": "execute_result"
    }
   ],
   "source": [
    "data.Year"
   ]
  },
  {
   "cell_type": "code",
   "execution_count": 10,
   "id": "5899c342",
   "metadata": {},
   "outputs": [
    {
     "data": {
      "text/html": [
       "<div>\n",
       "<style scoped>\n",
       "    .dataframe tbody tr th:only-of-type {\n",
       "        vertical-align: middle;\n",
       "    }\n",
       "\n",
       "    .dataframe tbody tr th {\n",
       "        vertical-align: top;\n",
       "    }\n",
       "\n",
       "    .dataframe thead th {\n",
       "        text-align: right;\n",
       "    }\n",
       "</style>\n",
       "<table border=\"1\" class=\"dataframe\">\n",
       "  <thead>\n",
       "    <tr style=\"text-align: right;\">\n",
       "      <th></th>\n",
       "      <th>Year</th>\n",
       "      <th>Perf</th>\n",
       "      <th>Company</th>\n",
       "      <th>NS</th>\n",
       "      <th>EPS</th>\n",
       "      <th>NPM</th>\n",
       "      <th>RoE</th>\n",
       "      <th>PER</th>\n",
       "      <th>PtBV</th>\n",
       "    </tr>\n",
       "  </thead>\n",
       "  <tbody>\n",
       "    <tr>\n",
       "      <th>0</th>\n",
       "      <td>4</td>\n",
       "      <td>1</td>\n",
       "      <td>INFY</td>\n",
       "      <td>0.098168</td>\n",
       "      <td>38.97</td>\n",
       "      <td>18.32</td>\n",
       "      <td>25.35</td>\n",
       "      <td>55.22</td>\n",
       "      <td>4.15</td>\n",
       "    </tr>\n",
       "    <tr>\n",
       "      <th>1</th>\n",
       "      <td>3</td>\n",
       "      <td>0</td>\n",
       "      <td>INFY</td>\n",
       "      <td>0.172329</td>\n",
       "      <td>35.44</td>\n",
       "      <td>18.63</td>\n",
       "      <td>23.71</td>\n",
       "      <td>72.18</td>\n",
       "      <td>4.96</td>\n",
       "    </tr>\n",
       "    <tr>\n",
       "      <th>2</th>\n",
       "      <td>2</td>\n",
       "      <td>0</td>\n",
       "      <td>INFY</td>\n",
       "      <td>0.029759</td>\n",
       "      <td>71.07</td>\n",
       "      <td>22.82</td>\n",
       "      <td>24.68</td>\n",
       "      <td>73.91</td>\n",
       "      <td>3.80</td>\n",
       "    </tr>\n",
       "    <tr>\n",
       "      <th>3</th>\n",
       "      <td>1</td>\n",
       "      <td>0</td>\n",
       "      <td>INFY</td>\n",
       "      <td>0.096779</td>\n",
       "      <td>62.80</td>\n",
       "      <td>21.00</td>\n",
       "      <td>20.80</td>\n",
       "      <td>56.64</td>\n",
       "      <td>3.39</td>\n",
       "    </tr>\n",
       "    <tr>\n",
       "      <th>4</th>\n",
       "      <td>4</td>\n",
       "      <td>0</td>\n",
       "      <td>BAJAJFINSV</td>\n",
       "      <td>0.275608</td>\n",
       "      <td>211.70</td>\n",
       "      <td>11.02</td>\n",
       "      <td>10.76</td>\n",
       "      <td>21.69</td>\n",
       "      <td>2.33</td>\n",
       "    </tr>\n",
       "  </tbody>\n",
       "</table>\n",
       "</div>"
      ],
      "text/plain": [
       "   Year  Perf     Company        NS     EPS    NPM    RoE    PER  PtBV\n",
       "0     4     1        INFY  0.098168   38.97  18.32  25.35  55.22  4.15\n",
       "1     3     0        INFY  0.172329   35.44  18.63  23.71  72.18  4.96\n",
       "2     2     0        INFY  0.029759   71.07  22.82  24.68  73.91  3.80\n",
       "3     1     0        INFY  0.096779   62.80  21.00  20.80  56.64  3.39\n",
       "4     4     0  BAJAJFINSV  0.275608  211.70  11.02  10.76  21.69  2.33"
      ]
     },
     "execution_count": 10,
     "metadata": {},
     "output_type": "execute_result"
    }
   ],
   "source": [
    "data.head()"
   ]
  },
  {
   "cell_type": "code",
   "execution_count": 11,
   "id": "cd0d74d4",
   "metadata": {},
   "outputs": [
    {
     "data": {
      "text/plain": [
       "(120, 9)"
      ]
     },
     "execution_count": 11,
     "metadata": {},
     "output_type": "execute_result"
    }
   ],
   "source": [
    "data.shape"
   ]
  },
  {
   "cell_type": "code",
   "execution_count": 12,
   "id": "7cd94e71",
   "metadata": {},
   "outputs": [
    {
     "data": {
      "text/html": [
       "<div>\n",
       "<style scoped>\n",
       "    .dataframe tbody tr th:only-of-type {\n",
       "        vertical-align: middle;\n",
       "    }\n",
       "\n",
       "    .dataframe tbody tr th {\n",
       "        vertical-align: top;\n",
       "    }\n",
       "\n",
       "    .dataframe thead th {\n",
       "        text-align: right;\n",
       "    }\n",
       "</style>\n",
       "<table border=\"1\" class=\"dataframe\">\n",
       "  <thead>\n",
       "    <tr style=\"text-align: right;\">\n",
       "      <th></th>\n",
       "      <th>Year</th>\n",
       "      <th>Perf</th>\n",
       "      <th>Company</th>\n",
       "      <th>NS</th>\n",
       "      <th>EPS</th>\n",
       "      <th>NPM</th>\n",
       "      <th>RoE</th>\n",
       "      <th>PER</th>\n",
       "      <th>PtBV</th>\n",
       "    </tr>\n",
       "  </thead>\n",
       "  <tbody>\n",
       "    <tr>\n",
       "      <th>0</th>\n",
       "      <td>4</td>\n",
       "      <td>1</td>\n",
       "      <td>INFY</td>\n",
       "      <td>0.098168</td>\n",
       "      <td>38.97</td>\n",
       "      <td>18.32</td>\n",
       "      <td>25.35</td>\n",
       "      <td>55.22</td>\n",
       "      <td>4.15</td>\n",
       "    </tr>\n",
       "    <tr>\n",
       "      <th>1</th>\n",
       "      <td>3</td>\n",
       "      <td>0</td>\n",
       "      <td>INFY</td>\n",
       "      <td>0.172329</td>\n",
       "      <td>35.44</td>\n",
       "      <td>18.63</td>\n",
       "      <td>23.71</td>\n",
       "      <td>72.18</td>\n",
       "      <td>4.96</td>\n",
       "    </tr>\n",
       "    <tr>\n",
       "      <th>2</th>\n",
       "      <td>2</td>\n",
       "      <td>0</td>\n",
       "      <td>INFY</td>\n",
       "      <td>0.029759</td>\n",
       "      <td>71.07</td>\n",
       "      <td>22.82</td>\n",
       "      <td>24.68</td>\n",
       "      <td>73.91</td>\n",
       "      <td>3.80</td>\n",
       "    </tr>\n",
       "    <tr>\n",
       "      <th>3</th>\n",
       "      <td>1</td>\n",
       "      <td>0</td>\n",
       "      <td>INFY</td>\n",
       "      <td>0.096779</td>\n",
       "      <td>62.80</td>\n",
       "      <td>21.00</td>\n",
       "      <td>20.80</td>\n",
       "      <td>56.64</td>\n",
       "      <td>3.39</td>\n",
       "    </tr>\n",
       "    <tr>\n",
       "      <th>4</th>\n",
       "      <td>4</td>\n",
       "      <td>0</td>\n",
       "      <td>BAJAJFINSV</td>\n",
       "      <td>0.275608</td>\n",
       "      <td>211.70</td>\n",
       "      <td>11.02</td>\n",
       "      <td>10.76</td>\n",
       "      <td>21.69</td>\n",
       "      <td>2.33</td>\n",
       "    </tr>\n",
       "  </tbody>\n",
       "</table>\n",
       "</div>"
      ],
      "text/plain": [
       "   Year  Perf     Company        NS     EPS    NPM    RoE    PER  PtBV\n",
       "0     4     1        INFY  0.098168   38.97  18.32  25.35  55.22  4.15\n",
       "1     3     0        INFY  0.172329   35.44  18.63  23.71  72.18  4.96\n",
       "2     2     0        INFY  0.029759   71.07  22.82  24.68  73.91  3.80\n",
       "3     1     0        INFY  0.096779   62.80  21.00  20.80  56.64  3.39\n",
       "4     4     0  BAJAJFINSV  0.275608  211.70  11.02  10.76  21.69  2.33"
      ]
     },
     "execution_count": 12,
     "metadata": {},
     "output_type": "execute_result"
    }
   ],
   "source": [
    "data.head()"
   ]
  },
  {
   "cell_type": "code",
   "execution_count": 13,
   "id": "60337be2",
   "metadata": {},
   "outputs": [
    {
     "data": {
      "image/png": "[encoded data removed]",
      "text/plain": [
       "<Figure size 432x288 with 1 Axes>"
      ]
     },
     "metadata": {
      "needs_background": "light"
     },
     "output_type": "display_data"
    }
   ],
   "source": [
    "sns.violinplot(x = 'Perf', y = 'Year', data = data)\n",
    "plt.show()"
   ]
  },
  {
   "cell_type": "code",
   "execution_count": 14,
   "id": "bba515e3",
   "metadata": {},
   "outputs": [
    {
     "data": {
      "image/png": "[encoded data removed]",
      "text/plain": [
       "<Figure size 432x288 with 1 Axes>"
      ]
     },
     "metadata": {
      "needs_background": "light"
     },
     "output_type": "display_data"
    }
   ],
   "source": [
    "sns.violinplot(x = 'Perf', y = 'NS', data = data)\n",
    "plt.show()"
   ]
  },
  {
   "cell_type": "code",
   "execution_count": 15,
   "id": "ef1daf6b",
   "metadata": {},
   "outputs": [
    {
     "data": {
      "image/png": "[encoded data removed]",
      "text/plain": [
       "<Figure size 432x288 with 1 Axes>"
      ]
     },
     "metadata": {
      "needs_background": "light"
     },
     "output_type": "display_data"
    }
   ],
   "source": [
    "sns.violinplot(x = 'Perf', y = 'EPS', data = data)\n",
    "plt.show()"
   ]
  },
  {
   "cell_type": "code",
   "execution_count": 16,
   "id": "78c29763",
   "metadata": {},
   "outputs": [
    {
     "data": {
      "image/png": "[encoded data removed]",
      "text/plain": [
       "<Figure size 432x288 with 1 Axes>"
      ]
     },
     "metadata": {
      "needs_background": "light"
     },
     "output_type": "display_data"
    }
   ],
   "source": [
    "sns.violinplot(x = 'Perf', y = 'NPM', data = data)\n",
    "plt.show()"
   ]
  },
  {
   "cell_type": "code",
   "execution_count": 17,
   "id": "8423ed6c",
   "metadata": {},
   "outputs": [
    {
     "data": {
      "image/png": "[encoded data removed]",
      "text/plain": [
       "<Figure size 432x288 with 1 Axes>"
      ]
     },
     "metadata": {
      "needs_background": "light"
     },
     "output_type": "display_data"
    }
   ],
   "source": [
    "sns.violinplot(x = 'Perf', y = 'RoE', data = data)\n",
    "plt.show()"
   ]
  },
  {
   "cell_type": "code",
   "execution_count": 18,
   "id": "8fe7a78c",
   "metadata": {},
   "outputs": [
    {
     "data": {
      "image/png": "[encoded data removed]",
      "text/plain": [
       "<Figure size 432x288 with 1 Axes>"
      ]
     },
     "metadata": {
      "needs_background": "light"
     },
     "output_type": "display_data"
    }
   ],
   "source": [
    "sns.violinplot(x = 'Perf', y = 'PER', data = data)\n",
    "plt.show()"
   ]
  },
  {
   "cell_type": "code",
   "execution_count": 19,
   "id": "e7875c6e",
   "metadata": {},
   "outputs": [
    {
     "data": {
      "image/png": "[encoded data removed]",
      "text/plain": [
       "<Figure size 432x288 with 1 Axes>"
      ]
     },
     "metadata": {
      "needs_background": "light"
     },
     "output_type": "display_data"
    }
   ],
   "source": [
    "sns.violinplot(x = 'Perf', y = 'PtBV', data = data)\n",
    "plt.show()"
   ]
  },
  {
   "cell_type": "code",
   "execution_count": 20,
   "id": "6f2c7a29",
   "metadata": {
    "scrolled": true
   },
   "outputs": [
    {
     "data": {
      "text/html": [
       "<div>\n",
       "<style scoped>\n",
       "    .dataframe tbody tr th:only-of-type {\n",
       "        vertical-align: middle;\n",
       "    }\n",
       "\n",
       "    .dataframe tbody tr th {\n",
       "        vertical-align: top;\n",
       "    }\n",
       "\n",
       "    .dataframe thead th {\n",
       "        text-align: right;\n",
       "    }\n",
       "</style>\n",
       "<table border=\"1\" class=\"dataframe\">\n",
       "  <thead>\n",
       "    <tr style=\"text-align: right;\">\n",
       "      <th></th>\n",
       "      <th>Year</th>\n",
       "      <th>Perf</th>\n",
       "      <th>Company</th>\n",
       "      <th>NS</th>\n",
       "      <th>EPS</th>\n",
       "      <th>NPM</th>\n",
       "      <th>RoE</th>\n",
       "      <th>PER</th>\n",
       "      <th>PtBV</th>\n",
       "    </tr>\n",
       "  </thead>\n",
       "  <tbody>\n",
       "    <tr>\n",
       "      <th>0</th>\n",
       "      <td>4</td>\n",
       "      <td>1</td>\n",
       "      <td>INFY</td>\n",
       "      <td>0.098168</td>\n",
       "      <td>38.97</td>\n",
       "      <td>18.32</td>\n",
       "      <td>25.35</td>\n",
       "      <td>55.22</td>\n",
       "      <td>4.15</td>\n",
       "    </tr>\n",
       "    <tr>\n",
       "      <th>1</th>\n",
       "      <td>3</td>\n",
       "      <td>0</td>\n",
       "      <td>INFY</td>\n",
       "      <td>0.172329</td>\n",
       "      <td>35.44</td>\n",
       "      <td>18.63</td>\n",
       "      <td>23.71</td>\n",
       "      <td>72.18</td>\n",
       "      <td>4.96</td>\n",
       "    </tr>\n",
       "    <tr>\n",
       "      <th>2</th>\n",
       "      <td>2</td>\n",
       "      <td>0</td>\n",
       "      <td>INFY</td>\n",
       "      <td>0.029759</td>\n",
       "      <td>71.07</td>\n",
       "      <td>22.82</td>\n",
       "      <td>24.68</td>\n",
       "      <td>73.91</td>\n",
       "      <td>3.80</td>\n",
       "    </tr>\n",
       "    <tr>\n",
       "      <th>3</th>\n",
       "      <td>1</td>\n",
       "      <td>0</td>\n",
       "      <td>INFY</td>\n",
       "      <td>0.096779</td>\n",
       "      <td>62.80</td>\n",
       "      <td>21.00</td>\n",
       "      <td>20.80</td>\n",
       "      <td>56.64</td>\n",
       "      <td>3.39</td>\n",
       "    </tr>\n",
       "    <tr>\n",
       "      <th>4</th>\n",
       "      <td>4</td>\n",
       "      <td>0</td>\n",
       "      <td>BAJAJFINSV</td>\n",
       "      <td>0.275608</td>\n",
       "      <td>211.70</td>\n",
       "      <td>11.02</td>\n",
       "      <td>10.76</td>\n",
       "      <td>21.69</td>\n",
       "      <td>2.33</td>\n",
       "    </tr>\n",
       "  </tbody>\n",
       "</table>\n",
       "</div>"
      ],
      "text/plain": [
       "   Year  Perf     Company        NS     EPS    NPM    RoE    PER  PtBV\n",
       "0     4     1        INFY  0.098168   38.97  18.32  25.35  55.22  4.15\n",
       "1     3     0        INFY  0.172329   35.44  18.63  23.71  72.18  4.96\n",
       "2     2     0        INFY  0.029759   71.07  22.82  24.68  73.91  3.80\n",
       "3     1     0        INFY  0.096779   62.80  21.00  20.80  56.64  3.39\n",
       "4     4     0  BAJAJFINSV  0.275608  211.70  11.02  10.76  21.69  2.33"
      ]
     },
     "execution_count": 20,
     "metadata": {},
     "output_type": "execute_result"
    }
   ],
   "source": [
    "data.head()"
   ]
  },
  {
   "cell_type": "markdown",
   "id": "227919db",
   "metadata": {},
   "source": [
    "from sklearn.preprocessing import StandardScaler\n",
    "sc = StandardScaler()\n",
    "data.iloc[:, 4:] = sc.fit_transform(data.iloc[:, 4:])"
   ]
  },
  {
   "cell_type": "markdown",
   "id": "4437e2cb",
   "metadata": {},
   "source": [
    "data.head()"
   ]
  },
  {
   "cell_type": "code",
   "execution_count": 21,
   "id": "1c2b96da",
   "metadata": {},
   "outputs": [],
   "source": [
    "x = data.drop(['Perf', 'Company'], axis = 1).values\n",
    "y = data['Perf'].values"
   ]
  },
  {
   "cell_type": "code",
   "execution_count": 22,
   "id": "fd7566c8",
   "metadata": {},
   "outputs": [],
   "source": [
    "data2021 = pd.read_excel('C:\\\\Users\\\\user\\\\Desktop\\\\New folder\\\\Projects\\\\banhi sir tinni maam\\\\2021.xlsx')"
   ]
  },
  {
   "cell_type": "code",
   "execution_count": 23,
   "id": "e77ad055",
   "metadata": {},
   "outputs": [
    {
     "data": {
      "text/html": [
       "<div>\n",
       "<style scoped>\n",
       "    .dataframe tbody tr th:only-of-type {\n",
       "        vertical-align: middle;\n",
       "    }\n",
       "\n",
       "    .dataframe tbody tr th {\n",
       "        vertical-align: top;\n",
       "    }\n",
       "\n",
       "    .dataframe thead th {\n",
       "        text-align: right;\n",
       "    }\n",
       "</style>\n",
       "<table border=\"1\" class=\"dataframe\">\n",
       "  <thead>\n",
       "    <tr style=\"text-align: right;\">\n",
       "      <th></th>\n",
       "      <th>Year</th>\n",
       "      <th>Perf</th>\n",
       "      <th>Company</th>\n",
       "      <th>NS</th>\n",
       "      <th>EPS</th>\n",
       "      <th>NPM</th>\n",
       "      <th>RoE</th>\n",
       "      <th>PER</th>\n",
       "      <th>PtBV</th>\n",
       "    </tr>\n",
       "  </thead>\n",
       "  <tbody>\n",
       "    <tr>\n",
       "      <th>0</th>\n",
       "      <td>2021</td>\n",
       "      <td>1</td>\n",
       "      <td>INFY</td>\n",
       "      <td>0.106630</td>\n",
       "      <td>45.61</td>\n",
       "      <td>19.33</td>\n",
       "      <td>25.34</td>\n",
       "      <td>142.16</td>\n",
       "      <td>7.61</td>\n",
       "    </tr>\n",
       "    <tr>\n",
       "      <th>1</th>\n",
       "      <td>2021</td>\n",
       "      <td>1</td>\n",
       "      <td>BAJAJFINSV</td>\n",
       "      <td>0.114912</td>\n",
       "      <td>280.90</td>\n",
       "      <td>12.15</td>\n",
       "      <td>12.47</td>\n",
       "      <td>34.42</td>\n",
       "      <td>4.29</td>\n",
       "    </tr>\n",
       "    <tr>\n",
       "      <th>2</th>\n",
       "      <td>2021</td>\n",
       "      <td>1</td>\n",
       "      <td>ICICIBANK</td>\n",
       "      <td>0.051005</td>\n",
       "      <td>27.26</td>\n",
       "      <td>22.83</td>\n",
       "      <td>11.90</td>\n",
       "      <td>21.35</td>\n",
       "      <td>2.60</td>\n",
       "    </tr>\n",
       "    <tr>\n",
       "      <th>3</th>\n",
       "      <td>2021</td>\n",
       "      <td>0</td>\n",
       "      <td>AXISBANK</td>\n",
       "      <td>0.015397</td>\n",
       "      <td>24.19</td>\n",
       "      <td>11.20</td>\n",
       "      <td>6.94</td>\n",
       "      <td>28.83</td>\n",
       "      <td>2.06</td>\n",
       "    </tr>\n",
       "    <tr>\n",
       "      <th>4</th>\n",
       "      <td>2021</td>\n",
       "      <td>1</td>\n",
       "      <td>LT</td>\n",
       "      <td>-0.065128</td>\n",
       "      <td>82.49</td>\n",
       "      <td>9.49</td>\n",
       "      <td>15.26</td>\n",
       "      <td>17.20</td>\n",
       "      <td>2.63</td>\n",
       "    </tr>\n",
       "  </tbody>\n",
       "</table>\n",
       "</div>"
      ],
      "text/plain": [
       "   Year  Perf     Company        NS     EPS    NPM    RoE     PER  PtBV\n",
       "0  2021     1        INFY  0.106630   45.61  19.33  25.34  142.16  7.61\n",
       "1  2021     1  BAJAJFINSV  0.114912  280.90  12.15  12.47   34.42  4.29\n",
       "2  2021     1   ICICIBANK  0.051005   27.26  22.83  11.90   21.35  2.60\n",
       "3  2021     0    AXISBANK  0.015397   24.19  11.20   6.94   28.83  2.06\n",
       "4  2021     1          LT -0.065128   82.49   9.49  15.26   17.20  2.63"
      ]
     },
     "execution_count": 23,
     "metadata": {},
     "output_type": "execute_result"
    }
   ],
   "source": [
    "data2021.head()"
   ]
  },
  {
   "cell_type": "code",
   "execution_count": 24,
   "id": "d6bab79c",
   "metadata": {},
   "outputs": [
    {
     "data": {
      "text/plain": [
       "(30, 9)"
      ]
     },
     "execution_count": 24,
     "metadata": {},
     "output_type": "execute_result"
    }
   ],
   "source": [
    "data2021.shape"
   ]
  },
  {
   "cell_type": "code",
   "execution_count": 25,
   "id": "d6ecad58",
   "metadata": {},
   "outputs": [],
   "source": [
    "data2021.Year = data2021.Year - 2016"
   ]
  },
  {
   "cell_type": "code",
   "execution_count": 26,
   "id": "0b6b77c4",
   "metadata": {},
   "outputs": [
    {
     "data": {
      "text/html": [
       "<div>\n",
       "<style scoped>\n",
       "    .dataframe tbody tr th:only-of-type {\n",
       "        vertical-align: middle;\n",
       "    }\n",
       "\n",
       "    .dataframe tbody tr th {\n",
       "        vertical-align: top;\n",
       "    }\n",
       "\n",
       "    .dataframe thead th {\n",
       "        text-align: right;\n",
       "    }\n",
       "</style>\n",
       "<table border=\"1\" class=\"dataframe\">\n",
       "  <thead>\n",
       "    <tr style=\"text-align: right;\">\n",
       "      <th></th>\n",
       "      <th>Year</th>\n",
       "      <th>Perf</th>\n",
       "      <th>Company</th>\n",
       "      <th>NS</th>\n",
       "      <th>EPS</th>\n",
       "      <th>NPM</th>\n",
       "      <th>RoE</th>\n",
       "      <th>PER</th>\n",
       "      <th>PtBV</th>\n",
       "    </tr>\n",
       "  </thead>\n",
       "  <tbody>\n",
       "    <tr>\n",
       "      <th>0</th>\n",
       "      <td>5</td>\n",
       "      <td>1</td>\n",
       "      <td>INFY</td>\n",
       "      <td>0.106630</td>\n",
       "      <td>45.61</td>\n",
       "      <td>19.33</td>\n",
       "      <td>25.34</td>\n",
       "      <td>142.16</td>\n",
       "      <td>7.61</td>\n",
       "    </tr>\n",
       "    <tr>\n",
       "      <th>1</th>\n",
       "      <td>5</td>\n",
       "      <td>1</td>\n",
       "      <td>BAJAJFINSV</td>\n",
       "      <td>0.114912</td>\n",
       "      <td>280.90</td>\n",
       "      <td>12.15</td>\n",
       "      <td>12.47</td>\n",
       "      <td>34.42</td>\n",
       "      <td>4.29</td>\n",
       "    </tr>\n",
       "    <tr>\n",
       "      <th>2</th>\n",
       "      <td>5</td>\n",
       "      <td>1</td>\n",
       "      <td>ICICIBANK</td>\n",
       "      <td>0.051005</td>\n",
       "      <td>27.26</td>\n",
       "      <td>22.83</td>\n",
       "      <td>11.90</td>\n",
       "      <td>21.35</td>\n",
       "      <td>2.60</td>\n",
       "    </tr>\n",
       "    <tr>\n",
       "      <th>3</th>\n",
       "      <td>5</td>\n",
       "      <td>0</td>\n",
       "      <td>AXISBANK</td>\n",
       "      <td>0.015397</td>\n",
       "      <td>24.19</td>\n",
       "      <td>11.20</td>\n",
       "      <td>6.94</td>\n",
       "      <td>28.83</td>\n",
       "      <td>2.06</td>\n",
       "    </tr>\n",
       "    <tr>\n",
       "      <th>4</th>\n",
       "      <td>5</td>\n",
       "      <td>1</td>\n",
       "      <td>LT</td>\n",
       "      <td>-0.065128</td>\n",
       "      <td>82.49</td>\n",
       "      <td>9.49</td>\n",
       "      <td>15.26</td>\n",
       "      <td>17.20</td>\n",
       "      <td>2.63</td>\n",
       "    </tr>\n",
       "  </tbody>\n",
       "</table>\n",
       "</div>"
      ],
      "text/plain": [
       "   Year  Perf     Company        NS     EPS    NPM    RoE     PER  PtBV\n",
       "0     5     1        INFY  0.106630   45.61  19.33  25.34  142.16  7.61\n",
       "1     5     1  BAJAJFINSV  0.114912  280.90  12.15  12.47   34.42  4.29\n",
       "2     5     1   ICICIBANK  0.051005   27.26  22.83  11.90   21.35  2.60\n",
       "3     5     0    AXISBANK  0.015397   24.19  11.20   6.94   28.83  2.06\n",
       "4     5     1          LT -0.065128   82.49   9.49  15.26   17.20  2.63"
      ]
     },
     "execution_count": 26,
     "metadata": {},
     "output_type": "execute_result"
    }
   ],
   "source": [
    "data2021.head()"
   ]
  },
  {
   "cell_type": "markdown",
   "id": "91ec7933",
   "metadata": {},
   "source": [
    "data2021.iloc[:, 4:] = sc.transform(data2021.iloc[:, 4:])"
   ]
  },
  {
   "cell_type": "markdown",
   "id": "cd1cf54b",
   "metadata": {},
   "source": [
    "data2021.head()"
   ]
  },
  {
   "cell_type": "code",
   "execution_count": 27,
   "id": "a7de1cad",
   "metadata": {},
   "outputs": [],
   "source": [
    "x2021 = data2021.drop(['Perf', 'Company'], axis = 1).values\n",
    "y2021 = data2021['Perf'].values"
   ]
  },
  {
   "cell_type": "markdown",
   "id": "0005ed1d",
   "metadata": {},
   "source": [
    "### Logistic Regression"
   ]
  },
  {
   "cell_type": "code",
   "execution_count": 28,
   "id": "a6189063",
   "metadata": {},
   "outputs": [
    {
     "data": {
      "text/plain": [
       "LogisticRegression()"
      ]
     },
     "execution_count": 28,
     "metadata": {},
     "output_type": "execute_result"
    }
   ],
   "source": [
    "from sklearn.linear_model import LogisticRegression\n",
    "lr = LogisticRegression()\n",
    "lr.fit(x, y)"
   ]
  },
  {
   "cell_type": "code",
   "execution_count": 29,
   "id": "b2af8655",
   "metadata": {},
   "outputs": [],
   "source": [
    "y_predlr = lr.predict(x2021)"
   ]
  },
  {
   "cell_type": "code",
   "execution_count": 30,
   "id": "5ca82720",
   "metadata": {},
   "outputs": [
    {
     "name": "stdout",
     "output_type": "stream",
     "text": [
      "0.4666666666666667\n",
      "[[13  2]\n",
      " [14  1]]\n"
     ]
    }
   ],
   "source": [
    "from sklearn.metrics import accuracy_score, confusion_matrix\n",
    "\n",
    "acclr = accuracy_score(y2021, y_predlr)\n",
    "print(acclr)\n",
    "\n",
    "cmlr = confusion_matrix(y2021, y_predlr)\n",
    "print(cmlr)"
   ]
  },
  {
   "cell_type": "markdown",
   "id": "197865b4",
   "metadata": {},
   "source": [
    "### Decision Tree"
   ]
  },
  {
   "cell_type": "code",
   "execution_count": 31,
   "id": "da5235d4",
   "metadata": {},
   "outputs": [
    {
     "data": {
      "text/plain": [
       "DecisionTreeClassifier(random_state=7)"
      ]
     },
     "execution_count": 31,
     "metadata": {},
     "output_type": "execute_result"
    }
   ],
   "source": [
    "from sklearn.tree import DecisionTreeClassifier\n",
    "dtc = DecisionTreeClassifier(random_state = 7)\n",
    "dtc.fit(x, y)"
   ]
  },
  {
   "cell_type": "code",
   "execution_count": 32,
   "id": "f580e40b",
   "metadata": {},
   "outputs": [],
   "source": [
    "y_preddtc = dtc.predict(x2021)"
   ]
  },
  {
   "cell_type": "code",
   "execution_count": 33,
   "id": "10bef303",
   "metadata": {},
   "outputs": [
    {
     "name": "stdout",
     "output_type": "stream",
     "text": [
      "0.5\n",
      "[[8 7]\n",
      " [8 7]]\n"
     ]
    }
   ],
   "source": [
    "accdtc = accuracy_score(y2021, y_preddtc)\n",
    "print(accdtc)\n",
    "\n",
    "cmdtc = confusion_matrix(y2021, y_preddtc)\n",
    "print(cmdtc)"
   ]
  },
  {
   "cell_type": "markdown",
   "id": "d671555b",
   "metadata": {},
   "source": [
    "### Random Forest"
   ]
  },
  {
   "cell_type": "code",
   "execution_count": 34,
   "id": "609e1594",
   "metadata": {},
   "outputs": [
    {
     "data": {
      "text/plain": [
       "RandomForestClassifier(n_estimators=10, random_state=7)"
      ]
     },
     "execution_count": 34,
     "metadata": {},
     "output_type": "execute_result"
    }
   ],
   "source": [
    "from sklearn.ensemble import RandomForestClassifier\n",
    "rfc = RandomForestClassifier(n_estimators = 10, random_state = 7)\n",
    "rfc.fit(x, y)"
   ]
  },
  {
   "cell_type": "code",
   "execution_count": 35,
   "id": "ac330fe3",
   "metadata": {},
   "outputs": [],
   "source": [
    "y_predrfc = rfc.predict(x2021)"
   ]
  },
  {
   "cell_type": "code",
   "execution_count": 36,
   "id": "492ac708",
   "metadata": {},
   "outputs": [
    {
     "name": "stdout",
     "output_type": "stream",
     "text": [
      "0.5666666666666667\n",
      "[[11  4]\n",
      " [ 9  6]]\n"
     ]
    }
   ],
   "source": [
    "accrfc = accuracy_score(y2021, y_predrfc)\n",
    "print(accrfc)\n",
    "\n",
    "cmrfc = confusion_matrix(y2021, y_predrfc)\n",
    "print(cmrfc)"
   ]
  },
  {
   "cell_type": "code",
   "execution_count": null,
   "id": "d4d89b83",
   "metadata": {},
   "outputs": [],
   "source": []
  }
 ],
 "metadata": {
  "kernelspec": {
   "display_name": "Python 3",
   "language": "python",
   "name": "python3"
  },
  "language_info": {
   "codemirror_mode": {
    "name": "ipython",
    "version": 3
   },
   "file_extension": ".py",
   "mimetype": "text/x-python",
   "name": "python",
   "nbconvert_exporter": "python",
   "pygments_lexer": "ipython3",
   "version": "3.8.8"
  }
 },
 "nbformat": 4,
 "nbformat_minor": 5
}
